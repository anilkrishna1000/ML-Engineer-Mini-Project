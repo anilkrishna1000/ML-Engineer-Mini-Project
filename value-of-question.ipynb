{
 "cells": [
  {
   "cell_type": "markdown",
   "metadata": {
    "papermill": {
     "duration": 0.031054,
     "end_time": "2021-03-18T05:17:43.885453",
     "exception": false,
     "start_time": "2021-03-18T05:17:43.854399",
     "status": "completed"
    },
    "tags": []
   },
   "source": [
    "**Build a model to predict the value of the question in the TV game show  “Jeopardy!”.**\n"
   ]
  },
  {
   "cell_type": "code",
   "execution_count": 1,
   "metadata": {
    "_cell_guid": "b1076dfc-b9ad-4769-8c92-a6c4dae69d19",
    "_uuid": "8f2839f25d086af736a60e9eeb907d3b93b6e0e5",
    "execution": {
     "iopub.execute_input": "2021-03-18T05:17:44.011242Z",
     "iopub.status.busy": "2021-03-18T05:17:44.010486Z",
     "iopub.status.idle": "2021-03-18T05:17:44.030778Z",
     "shell.execute_reply": "2021-03-18T05:17:44.030065Z"
    },
    "papermill": {
     "duration": 0.052971,
     "end_time": "2021-03-18T05:17:44.031001",
     "exception": false,
     "start_time": "2021-03-18T05:17:43.978030",
     "status": "completed"
    },
    "tags": []
   },
   "outputs": [],
   "source": [
    "\n",
    "import numpy as np \n",
    "import pandas as pd \n",
    "\n",
    "# Input data files are available in the read-only \"../input/\" directory\n",
    "# For example, running this (by clicking run or pressing Shift+Enter) will list all files under the input directory\n",
    "\n",
    "import os\n",
    "for dirname, _, filenames in os.walk('/kaggle/input'):\n",
    "    for filename in filenames:\n",
    "        file_path = os.path.join(dirname, filename)\n",
    "\n"
   ]
  },
  {
   "cell_type": "markdown",
   "metadata": {
    "papermill": {
     "duration": 0.029319,
     "end_time": "2021-03-18T05:17:44.092239",
     "exception": false,
     "start_time": "2021-03-18T05:17:44.062920",
     "status": "completed"
    },
    "tags": []
   },
   "source": [
    "**Importing necessary libraries**"
   ]
  },
  {
   "cell_type": "code",
   "execution_count": 2,
   "metadata": {
    "execution": {
     "iopub.execute_input": "2021-03-18T05:17:44.157941Z",
     "iopub.status.busy": "2021-03-18T05:17:44.157203Z",
     "iopub.status.idle": "2021-03-18T05:17:46.941471Z",
     "shell.execute_reply": "2021-03-18T05:17:46.940836Z"
    },
    "papermill": {
     "duration": 2.819466,
     "end_time": "2021-03-18T05:17:46.941624",
     "exception": false,
     "start_time": "2021-03-18T05:17:44.122158",
     "status": "completed"
    },
    "tags": []
   },
   "outputs": [
    {
     "name": "stdout",
     "output_type": "stream",
     "text": [
      "[nltk_data] Downloading package stopwords to /usr/share/nltk_data...\n",
      "[nltk_data]   Package stopwords is already up-to-date!\n"
     ]
    }
   ],
   "source": [
    "import pandas as pd\n",
    "import numpy as np\n",
    "import nltk\n",
    "nltk.download('stopwords')\n",
    "\n",
    "from stop_words import get_stop_words\n",
    "from nltk.corpus import stopwords"
   ]
  },
  {
   "cell_type": "markdown",
   "metadata": {
    "papermill": {
     "duration": 0.030836,
     "end_time": "2021-03-18T05:17:47.003239",
     "exception": false,
     "start_time": "2021-03-18T05:17:46.972403",
     "status": "completed"
    },
    "tags": []
   },
   "source": [
    "**Reading Csv**"
   ]
  },
  {
   "cell_type": "code",
   "execution_count": 3,
   "metadata": {
    "execution": {
     "iopub.execute_input": "2021-03-18T05:17:47.075288Z",
     "iopub.status.busy": "2021-03-18T05:17:47.074572Z",
     "iopub.status.idle": "2021-03-18T05:17:48.408768Z",
     "shell.execute_reply": "2021-03-18T05:17:48.409529Z"
    },
    "papermill": {
     "duration": 1.376432,
     "end_time": "2021-03-18T05:17:48.409720",
     "exception": false,
     "start_time": "2021-03-18T05:17:47.033288",
     "status": "completed"
    },
    "tags": []
   },
   "outputs": [
    {
     "name": "stdout",
     "output_type": "stream",
     "text": [
      "Shape of jeo_df is :- (216930, 7)\n"
     ]
    },
    {
     "data": {
      "text/html": [
       "<div>\n",
       "<style scoped>\n",
       "    .dataframe tbody tr th:only-of-type {\n",
       "        vertical-align: middle;\n",
       "    }\n",
       "\n",
       "    .dataframe tbody tr th {\n",
       "        vertical-align: top;\n",
       "    }\n",
       "\n",
       "    .dataframe thead th {\n",
       "        text-align: right;\n",
       "    }\n",
       "</style>\n",
       "<table border=\"1\" class=\"dataframe\">\n",
       "  <thead>\n",
       "    <tr style=\"text-align: right;\">\n",
       "      <th></th>\n",
       "      <th>Show Number</th>\n",
       "      <th>Air Date</th>\n",
       "      <th>Round</th>\n",
       "      <th>Category</th>\n",
       "      <th>Value</th>\n",
       "      <th>Question</th>\n",
       "      <th>Answer</th>\n",
       "    </tr>\n",
       "  </thead>\n",
       "  <tbody>\n",
       "    <tr>\n",
       "      <th>0</th>\n",
       "      <td>4680</td>\n",
       "      <td>2004-12-31</td>\n",
       "      <td>Jeopardy!</td>\n",
       "      <td>HISTORY</td>\n",
       "      <td>$200</td>\n",
       "      <td>For the last 8 years of his life, Galileo was ...</td>\n",
       "      <td>Copernicus</td>\n",
       "    </tr>\n",
       "    <tr>\n",
       "      <th>1</th>\n",
       "      <td>4680</td>\n",
       "      <td>2004-12-31</td>\n",
       "      <td>Jeopardy!</td>\n",
       "      <td>ESPN's TOP 10 ALL-TIME ATHLETES</td>\n",
       "      <td>$200</td>\n",
       "      <td>No. 2: 1912 Olympian; football star at Carlisl...</td>\n",
       "      <td>Jim Thorpe</td>\n",
       "    </tr>\n",
       "    <tr>\n",
       "      <th>2</th>\n",
       "      <td>4680</td>\n",
       "      <td>2004-12-31</td>\n",
       "      <td>Jeopardy!</td>\n",
       "      <td>EVERYBODY TALKS ABOUT IT...</td>\n",
       "      <td>$200</td>\n",
       "      <td>The city of Yuma in this state has a record av...</td>\n",
       "      <td>Arizona</td>\n",
       "    </tr>\n",
       "    <tr>\n",
       "      <th>3</th>\n",
       "      <td>4680</td>\n",
       "      <td>2004-12-31</td>\n",
       "      <td>Jeopardy!</td>\n",
       "      <td>THE COMPANY LINE</td>\n",
       "      <td>$200</td>\n",
       "      <td>In 1963, live on \"The Art Linkletter Show\", th...</td>\n",
       "      <td>McDonald's</td>\n",
       "    </tr>\n",
       "    <tr>\n",
       "      <th>4</th>\n",
       "      <td>4680</td>\n",
       "      <td>2004-12-31</td>\n",
       "      <td>Jeopardy!</td>\n",
       "      <td>EPITAPHS &amp; TRIBUTES</td>\n",
       "      <td>$200</td>\n",
       "      <td>Signer of the Dec. of Indep., framer of the Co...</td>\n",
       "      <td>John Adams</td>\n",
       "    </tr>\n",
       "  </tbody>\n",
       "</table>\n",
       "</div>"
      ],
      "text/plain": [
       "   Show Number    Air Date      Round                         Category  Value  \\\n",
       "0         4680  2004-12-31  Jeopardy!                          HISTORY   $200   \n",
       "1         4680  2004-12-31  Jeopardy!  ESPN's TOP 10 ALL-TIME ATHLETES   $200   \n",
       "2         4680  2004-12-31  Jeopardy!      EVERYBODY TALKS ABOUT IT...   $200   \n",
       "3         4680  2004-12-31  Jeopardy!                 THE COMPANY LINE   $200   \n",
       "4         4680  2004-12-31  Jeopardy!              EPITAPHS & TRIBUTES   $200   \n",
       "\n",
       "                                            Question      Answer  \n",
       "0  For the last 8 years of his life, Galileo was ...  Copernicus  \n",
       "1  No. 2: 1912 Olympian; football star at Carlisl...  Jim Thorpe  \n",
       "2  The city of Yuma in this state has a record av...     Arizona  \n",
       "3  In 1963, live on \"The Art Linkletter Show\", th...  McDonald's  \n",
       "4  Signer of the Dec. of Indep., framer of the Co...  John Adams  "
      ]
     },
     "execution_count": 3,
     "metadata": {},
     "output_type": "execute_result"
    }
   ],
   "source": [
    "jeo_df = pd.read_csv(file_path)\n",
    "print(f\"Shape of jeo_df is :- {jeo_df.shape}\")\n",
    "jeo_df.head()"
   ]
  },
  {
   "cell_type": "code",
   "execution_count": 4,
   "metadata": {
    "execution": {
     "iopub.execute_input": "2021-03-18T05:17:48.479413Z",
     "iopub.status.busy": "2021-03-18T05:17:48.478589Z",
     "iopub.status.idle": "2021-03-18T05:17:48.482351Z",
     "shell.execute_reply": "2021-03-18T05:17:48.482815Z"
    },
    "papermill": {
     "duration": 0.04148,
     "end_time": "2021-03-18T05:17:48.482993",
     "exception": false,
     "start_time": "2021-03-18T05:17:48.441513",
     "status": "completed"
    },
    "tags": []
   },
   "outputs": [
    {
     "name": "stdout",
     "output_type": "stream",
     "text": [
      "Column names:- Index(['Show Number', ' Air Date', ' Round', ' Category', ' Value',\n",
      "       ' Question', ' Answer'],\n",
      "      dtype='object')\n"
     ]
    }
   ],
   "source": [
    "# Name of the columns\n",
    "print(f\"Column names:- {jeo_df.columns}\")"
   ]
  },
  {
   "cell_type": "code",
   "execution_count": 5,
   "metadata": {
    "execution": {
     "iopub.execute_input": "2021-03-18T05:17:48.551691Z",
     "iopub.status.busy": "2021-03-18T05:17:48.550945Z",
     "iopub.status.idle": "2021-03-18T05:17:48.698788Z",
     "shell.execute_reply": "2021-03-18T05:17:48.698096Z"
    },
    "papermill": {
     "duration": 0.183991,
     "end_time": "2021-03-18T05:17:48.698937",
     "exception": false,
     "start_time": "2021-03-18T05:17:48.514946",
     "status": "completed"
    },
    "tags": []
   },
   "outputs": [
    {
     "data": {
      "text/plain": [
       "Show Number    216930\n",
       " Air Date      216930\n",
       " Round         216930\n",
       " Category      216930\n",
       " Value         216930\n",
       " Question      216930\n",
       " Answer        216930\n",
       "dtype: int64"
      ]
     },
     "execution_count": 5,
     "metadata": {},
     "output_type": "execute_result"
    }
   ],
   "source": [
    "jeo_df.isna().count()"
   ]
  },
  {
   "cell_type": "code",
   "execution_count": 6,
   "metadata": {
    "execution": {
     "iopub.execute_input": "2021-03-18T05:17:48.774216Z",
     "iopub.status.busy": "2021-03-18T05:17:48.773194Z",
     "iopub.status.idle": "2021-03-18T05:17:48.776243Z",
     "shell.execute_reply": "2021-03-18T05:17:48.777068Z"
    },
    "papermill": {
     "duration": 0.044104,
     "end_time": "2021-03-18T05:17:48.777283",
     "exception": false,
     "start_time": "2021-03-18T05:17:48.733179",
     "status": "completed"
    },
    "tags": []
   },
   "outputs": [],
   "source": [
    "#Renaming the columns names since it contains spaces for few col names\n",
    "jeo_df.columns = [\"Show_Number\", \"Air_Date\", \"Round\", \"Category\", \"Value\", \"Question\", \"Answer\"] "
   ]
  },
  {
   "cell_type": "code",
   "execution_count": 7,
   "metadata": {
    "execution": {
     "iopub.execute_input": "2021-03-18T05:17:48.849386Z",
     "iopub.status.busy": "2021-03-18T05:17:48.848148Z",
     "iopub.status.idle": "2021-03-18T05:17:49.147310Z",
     "shell.execute_reply": "2021-03-18T05:17:49.146653Z"
    },
    "papermill": {
     "duration": 0.336993,
     "end_time": "2021-03-18T05:17:49.147473",
     "exception": false,
     "start_time": "2021-03-18T05:17:48.810480",
     "status": "completed"
    },
    "tags": []
   },
   "outputs": [
    {
     "name": "stdout",
     "output_type": "stream",
     "text": [
      "Jeopardy!           0.495017\n",
      "Double Jeopardy!    0.488231\n",
      "Final Jeopardy!     0.016738\n",
      "Tiebreaker          0.000014\n",
      "Name: Round, dtype: float64\n",
      "\n"
     ]
    },
    {
     "data": {
      "image/png": "[encoded data removed]",
      "text/plain": [
       "<Figure size 432x288 with 1 Axes>"
      ]
     },
     "metadata": {
      "needs_background": "light"
     },
     "output_type": "display_data"
    }
   ],
   "source": [
    "%matplotlib inline\n",
    "# Function to draw bar plot\n",
    "def get_catogorical_features_plot(feat_name, plot=True):\n",
    "    if plot:\n",
    "        jeo_df.groupby(feat_name).size().plot(kind = 'bar')\n",
    "        rows = jeo_df.shape[0]\n",
    "        res = jeo_df[feat_name].value_counts()/rows \n",
    "        print(res)\n",
    "        print()\n",
    "    else:\n",
    "        res = jeo_df[feat_name].value_counts().shape[0]\n",
    "        print(res)\n",
    "        print()\n",
    "    \n",
    "  \n",
    "get_catogorical_features_plot(\"Round\") "
   ]
  },
  {
   "cell_type": "code",
   "execution_count": 8,
   "metadata": {
    "execution": {
     "iopub.execute_input": "2021-03-18T05:17:49.284228Z",
     "iopub.status.busy": "2021-03-18T05:17:49.283054Z",
     "iopub.status.idle": "2021-03-18T05:17:49.345134Z",
     "shell.execute_reply": "2021-03-18T05:17:49.345675Z"
    },
    "papermill": {
     "duration": 0.164698,
     "end_time": "2021-03-18T05:17:49.345874",
     "exception": false,
     "start_time": "2021-03-18T05:17:49.181176",
     "status": "completed"
    },
    "tags": []
   },
   "outputs": [
    {
     "name": "stdout",
     "output_type": "stream",
     "text": [
      "Shape of jeo_df is :- (213296, 7)\n"
     ]
    }
   ],
   "source": [
    "# When Round==\"Final Jeopardy! or Round==\"Tiebreaker\" replace that with None\n",
    "# and removing from the csv since there were very few number of rows containing this data 0.016% and  0.000014%\n",
    "jeo_df['Value'] = np.where((jeo_df['Round'] == \"Final Jeopardy!\")\n",
    "                           | (jeo_df['Round'] == \"Tiebreaker\"), \n",
    "                           \"None\",      \n",
    "                           jeo_df['Value'])      \n",
    "jeo_df = jeo_df[jeo_df['Value'] != \"None\"]\n",
    "print(f\"Shape of jeo_df is :- {jeo_df.shape}\")\n"
   ]
  },
  {
   "cell_type": "code",
   "execution_count": 9,
   "metadata": {
    "execution": {
     "iopub.execute_input": "2021-03-18T05:17:49.421718Z",
     "iopub.status.busy": "2021-03-18T05:17:49.420984Z",
     "iopub.status.idle": "2021-03-18T05:17:49.430005Z",
     "shell.execute_reply": "2021-03-18T05:17:49.429469Z"
    },
    "papermill": {
     "duration": 0.048452,
     "end_time": "2021-03-18T05:17:49.430156",
     "exception": false,
     "start_time": "2021-03-18T05:17:49.381704",
     "status": "completed"
    },
    "tags": []
   },
   "outputs": [
    {
     "name": "stdout",
     "output_type": "stream",
     "text": [
      "3640\n",
      "\n"
     ]
    }
   ],
   "source": [
    "# Total unique show number\n",
    "get_catogorical_features_plot(\"Show_Number\", plot=False) "
   ]
  },
  {
   "cell_type": "code",
   "execution_count": 10,
   "metadata": {
    "execution": {
     "iopub.execute_input": "2021-03-18T05:17:49.547682Z",
     "iopub.status.busy": "2021-03-18T05:17:49.541528Z",
     "iopub.status.idle": "2021-03-18T05:17:49.580880Z",
     "shell.execute_reply": "2021-03-18T05:17:49.580192Z"
    },
    "papermill": {
     "duration": 0.116397,
     "end_time": "2021-03-18T05:17:49.581033",
     "exception": false,
     "start_time": "2021-03-18T05:17:49.464636",
     "status": "completed"
    },
    "tags": []
   },
   "outputs": [
    {
     "name": "stdout",
     "output_type": "stream",
     "text": [
      "26951\n",
      "\n"
     ]
    }
   ],
   "source": [
    "# Total Unique Category\n",
    "get_catogorical_features_plot(\"Category\", plot=False) "
   ]
  },
  {
   "cell_type": "code",
   "execution_count": 11,
   "metadata": {
    "execution": {
     "iopub.execute_input": "2021-03-18T05:17:49.706691Z",
     "iopub.status.busy": "2021-03-18T05:17:49.705870Z",
     "iopub.status.idle": "2021-03-18T05:17:49.711460Z",
     "shell.execute_reply": "2021-03-18T05:17:49.711984Z"
    },
    "papermill": {
     "duration": 0.096208,
     "end_time": "2021-03-18T05:17:49.712169",
     "exception": false,
     "start_time": "2021-03-18T05:17:49.615961",
     "status": "completed"
    },
    "tags": []
   },
   "outputs": [
    {
     "name": "stdout",
     "output_type": "stream",
     "text": [
      "149\n",
      "\n"
     ]
    }
   ],
   "source": [
    "# Total Unique value\n",
    "get_catogorical_features_plot(\"Value\", plot=False) "
   ]
  },
  {
   "cell_type": "code",
   "execution_count": 12,
   "metadata": {
    "execution": {
     "iopub.execute_input": "2021-03-18T05:17:49.919609Z",
     "iopub.status.busy": "2021-03-18T05:17:49.918853Z",
     "iopub.status.idle": "2021-03-18T05:17:49.930267Z",
     "shell.execute_reply": "2021-03-18T05:17:49.929521Z"
    },
    "papermill": {
     "duration": 0.18214,
     "end_time": "2021-03-18T05:17:49.930419",
     "exception": false,
     "start_time": "2021-03-18T05:17:49.748279",
     "status": "completed"
    },
    "tags": []
   },
   "outputs": [
    {
     "data": {
      "text/plain": [
       "Show_Number    0\n",
       "Air_Date       0\n",
       "Round          0\n",
       "Category       0\n",
       "Value          0\n",
       "Question       0\n",
       "Answer         2\n",
       "dtype: int64"
      ]
     },
     "execution_count": 12,
     "metadata": {},
     "output_type": "execute_result"
    }
   ],
   "source": [
    "# Checking if any column contains null value or not\n",
    "jeo_df.isnull().sum()"
   ]
  },
  {
   "cell_type": "code",
   "execution_count": 13,
   "metadata": {
    "execution": {
     "iopub.execute_input": "2021-03-18T05:17:50.095266Z",
     "iopub.status.busy": "2021-03-18T05:17:50.076055Z",
     "iopub.status.idle": "2021-03-18T05:17:50.147066Z",
     "shell.execute_reply": "2021-03-18T05:17:50.146430Z"
    },
    "papermill": {
     "duration": 0.179965,
     "end_time": "2021-03-18T05:17:50.147224",
     "exception": false,
     "start_time": "2021-03-18T05:17:49.967259",
     "status": "completed"
    },
    "tags": []
   },
   "outputs": [
    {
     "data": {
      "text/html": [
       "<div>\n",
       "<style scoped>\n",
       "    .dataframe tbody tr th:only-of-type {\n",
       "        vertical-align: middle;\n",
       "    }\n",
       "\n",
       "    .dataframe tbody tr th {\n",
       "        vertical-align: top;\n",
       "    }\n",
       "\n",
       "    .dataframe thead th {\n",
       "        text-align: right;\n",
       "    }\n",
       "</style>\n",
       "<table border=\"1\" class=\"dataframe\">\n",
       "  <thead>\n",
       "    <tr style=\"text-align: right;\">\n",
       "      <th></th>\n",
       "      <th>Answer</th>\n",
       "    </tr>\n",
       "  </thead>\n",
       "  <tbody>\n",
       "    <tr>\n",
       "      <th>China</th>\n",
       "      <td>212</td>\n",
       "    </tr>\n",
       "    <tr>\n",
       "      <th>Australia</th>\n",
       "      <td>211</td>\n",
       "    </tr>\n",
       "    <tr>\n",
       "      <th>Japan</th>\n",
       "      <td>193</td>\n",
       "    </tr>\n",
       "    <tr>\n",
       "      <th>France</th>\n",
       "      <td>191</td>\n",
       "    </tr>\n",
       "    <tr>\n",
       "      <th>Chicago</th>\n",
       "      <td>189</td>\n",
       "    </tr>\n",
       "    <tr>\n",
       "      <th>...</th>\n",
       "      <td>...</td>\n",
       "    </tr>\n",
       "    <tr>\n",
       "      <th>University of Miami</th>\n",
       "      <td>1</td>\n",
       "    </tr>\n",
       "    <tr>\n",
       "      <th>hyperinflation</th>\n",
       "      <td>1</td>\n",
       "    </tr>\n",
       "    <tr>\n",
       "      <th>Never Give a Sucker an Even Break</th>\n",
       "      <td>1</td>\n",
       "    </tr>\n",
       "    <tr>\n",
       "      <th>TV judges</th>\n",
       "      <td>1</td>\n",
       "    </tr>\n",
       "    <tr>\n",
       "      <th>Lady Caroline Lamb</th>\n",
       "      <td>1</td>\n",
       "    </tr>\n",
       "  </tbody>\n",
       "</table>\n",
       "<p>87161 rows × 1 columns</p>\n",
       "</div>"
      ],
      "text/plain": [
       "                                   Answer\n",
       "China                                 212\n",
       "Australia                             211\n",
       "Japan                                 193\n",
       "France                                191\n",
       "Chicago                               189\n",
       "...                                   ...\n",
       "University of Miami                     1\n",
       "hyperinflation                          1\n",
       "Never Give a Sucker an Even Break       1\n",
       "TV judges                               1\n",
       "Lady Caroline Lamb                      1\n",
       "\n",
       "[87161 rows x 1 columns]"
      ]
     },
     "execution_count": 13,
     "metadata": {},
     "output_type": "execute_result"
    }
   ],
   "source": [
    "jeo_df['Answer'].value_counts().to_frame()"
   ]
  },
  {
   "cell_type": "code",
   "execution_count": 14,
   "metadata": {
    "execution": {
     "iopub.execute_input": "2021-03-18T05:17:50.309541Z",
     "iopub.status.busy": "2021-03-18T05:17:50.284738Z",
     "iopub.status.idle": "2021-03-18T05:17:50.324110Z",
     "shell.execute_reply": "2021-03-18T05:17:50.323441Z"
    },
    "papermill": {
     "duration": 0.140678,
     "end_time": "2021-03-18T05:17:50.324277",
     "exception": false,
     "start_time": "2021-03-18T05:17:50.183599",
     "status": "completed"
    },
    "tags": []
   },
   "outputs": [],
   "source": [
    "# Let's fill the answer with maximun number of repeating answer. Since only 2 of them is missing\n",
    "jeo_df['Answer'] = jeo_df['Answer'].fillna(jeo_df['Answer'].mode()[0])"
   ]
  },
  {
   "cell_type": "code",
   "execution_count": 15,
   "metadata": {
    "execution": {
     "iopub.execute_input": "2021-03-18T05:17:50.413616Z",
     "iopub.status.busy": "2021-03-18T05:17:50.412848Z",
     "iopub.status.idle": "2021-03-18T05:17:50.418956Z",
     "shell.execute_reply": "2021-03-18T05:17:50.418266Z"
    },
    "papermill": {
     "duration": 0.057678,
     "end_time": "2021-03-18T05:17:50.419119",
     "exception": false,
     "start_time": "2021-03-18T05:17:50.361441",
     "status": "completed"
    },
    "tags": []
   },
   "outputs": [
    {
     "data": {
      "text/plain": [
       "[\"For the last 8 years of his life, Galileo was under house arrest for espousing this man's theory\",\n",
       " 'No. 2: 1912 Olympian; football star at Carlisle Indian School; 6 MLB seasons with the Reds, Giants & Braves',\n",
       " 'The city of Yuma in this state has a record average of 4,055 hours of sunshine each year']"
      ]
     },
     "execution_count": 15,
     "metadata": {},
     "output_type": "execute_result"
    }
   ],
   "source": [
    "jeo_df[\"Question\"].to_list()[:3]"
   ]
  },
  {
   "cell_type": "code",
   "execution_count": 16,
   "metadata": {
    "execution": {
     "iopub.execute_input": "2021-03-18T05:17:50.508380Z",
     "iopub.status.busy": "2021-03-18T05:17:50.507217Z",
     "iopub.status.idle": "2021-03-18T05:17:50.511972Z",
     "shell.execute_reply": "2021-03-18T05:17:50.511310Z"
    },
    "papermill": {
     "duration": 0.054229,
     "end_time": "2021-03-18T05:17:50.512145",
     "exception": false,
     "start_time": "2021-03-18T05:17:50.457916",
     "status": "completed"
    },
    "tags": []
   },
   "outputs": [
    {
     "data": {
      "text/plain": [
       "['Copernicus',\n",
       " 'Jim Thorpe',\n",
       " 'Arizona',\n",
       " \"McDonald's\",\n",
       " 'John Adams',\n",
       " 'the ant',\n",
       " 'the Appian Way',\n",
       " 'Michael Jordan',\n",
       " 'Washington',\n",
       " 'Crate & Barrel',\n",
       " 'Jackie Gleason',\n",
       " 'the cud',\n",
       " 'Ceylon (or Sri Lanka)',\n",
       " 'Jim Brown',\n",
       " 'the UV index',\n",
       " 'Bulova',\n",
       " 'Jesse James',\n",
       " 'imp',\n",
       " 'the International',\n",
       " '(Lou) Gehrig']"
      ]
     },
     "execution_count": 16,
     "metadata": {},
     "output_type": "execute_result"
    }
   ],
   "source": [
    "jeo_df[\"Answer\"].to_list()[:20]"
   ]
  },
  {
   "cell_type": "markdown",
   "metadata": {
    "papermill": {
     "duration": 0.037681,
     "end_time": "2021-03-18T05:17:50.587261",
     "exception": false,
     "start_time": "2021-03-18T05:17:50.549580",
     "status": "completed"
    },
    "tags": []
   },
   "source": [
    "> As seen from above question answer, we can conclude that Answer to each question is a Noun"
   ]
  },
  {
   "cell_type": "code",
   "execution_count": 17,
   "metadata": {
    "execution": {
     "iopub.execute_input": "2021-03-18T05:17:50.704222Z",
     "iopub.status.busy": "2021-03-18T05:17:50.702336Z",
     "iopub.status.idle": "2021-03-18T05:17:50.708892Z",
     "shell.execute_reply": "2021-03-18T05:17:50.708325Z"
    },
    "papermill": {
     "duration": 0.083681,
     "end_time": "2021-03-18T05:17:50.709037",
     "exception": false,
     "start_time": "2021-03-18T05:17:50.625356",
     "status": "completed"
    },
    "tags": []
   },
   "outputs": [
    {
     "data": {
      "text/plain": [
       "(29,)"
      ]
     },
     "execution_count": 17,
     "metadata": {},
     "output_type": "execute_result"
    }
   ],
   "source": [
    "np.where((jeo_df['Round'] == \"Jeopardy!\")\n",
    "                           & (jeo_df['Show_Number'] == 4680))[0].shape"
   ]
  },
  {
   "cell_type": "code",
   "execution_count": 18,
   "metadata": {
    "execution": {
     "iopub.execute_input": "2021-03-18T05:17:50.795210Z",
     "iopub.status.busy": "2021-03-18T05:17:50.794449Z",
     "iopub.status.idle": "2021-03-18T05:17:54.203372Z",
     "shell.execute_reply": "2021-03-18T05:17:54.202631Z"
    },
    "papermill": {
     "duration": 3.455867,
     "end_time": "2021-03-18T05:17:54.203528",
     "exception": false,
     "start_time": "2021-03-18T05:17:50.747661",
     "status": "completed"
    },
    "tags": []
   },
   "outputs": [],
   "source": [
    "# Modifying Value column as numeric and reducing the number of classes to predict\n",
    "jeo_df['Modified_Value'] = jeo_df['Value'].apply(\n",
    "    lambda value: int(value.replace(',', '').replace('$', '').replace(\" \", \"\"))\n",
    ")\n",
    "def binning(value):\n",
    "    if value < 1000:\n",
    "        return np.round(value, -2)\n",
    "    elif value < 10000:\n",
    "        return np.round(value, -3)\n",
    "    else:\n",
    "        return np.round(value, -4)\n",
    "\n",
    "jeo_df['Modified_Bins'] = jeo_df['Modified_Value'].apply(binning)"
   ]
  },
  {
   "cell_type": "code",
   "execution_count": 19,
   "metadata": {
    "execution": {
     "iopub.execute_input": "2021-03-18T05:17:54.297257Z",
     "iopub.status.busy": "2021-03-18T05:17:54.296546Z",
     "iopub.status.idle": "2021-03-18T05:17:54.302252Z",
     "shell.execute_reply": "2021-03-18T05:17:54.301510Z"
    },
    "papermill": {
     "duration": 0.060326,
     "end_time": "2021-03-18T05:17:54.302539",
     "exception": false,
     "start_time": "2021-03-18T05:17:54.242213",
     "status": "completed"
    },
    "tags": []
   },
   "outputs": [
    {
     "data": {
      "text/html": [
       "<div>\n",
       "<style scoped>\n",
       "    .dataframe tbody tr th:only-of-type {\n",
       "        vertical-align: middle;\n",
       "    }\n",
       "\n",
       "    .dataframe tbody tr th {\n",
       "        vertical-align: top;\n",
       "    }\n",
       "\n",
       "    .dataframe thead th {\n",
       "        text-align: right;\n",
       "    }\n",
       "</style>\n",
       "<table border=\"1\" class=\"dataframe\">\n",
       "  <thead>\n",
       "    <tr style=\"text-align: right;\">\n",
       "      <th></th>\n",
       "      <th>Show_Number</th>\n",
       "      <th>Air_Date</th>\n",
       "      <th>Round</th>\n",
       "      <th>Category</th>\n",
       "      <th>Value</th>\n",
       "      <th>Question</th>\n",
       "      <th>Answer</th>\n",
       "      <th>Modified_Value</th>\n",
       "      <th>Modified_Bins</th>\n",
       "    </tr>\n",
       "  </thead>\n",
       "  <tbody>\n",
       "    <tr>\n",
       "      <th>0</th>\n",
       "      <td>4680</td>\n",
       "      <td>2004-12-31</td>\n",
       "      <td>Jeopardy!</td>\n",
       "      <td>HISTORY</td>\n",
       "      <td>$200</td>\n",
       "      <td>For the last 8 years of his life, Galileo was ...</td>\n",
       "      <td>Copernicus</td>\n",
       "      <td>200</td>\n",
       "      <td>200</td>\n",
       "    </tr>\n",
       "    <tr>\n",
       "      <th>1</th>\n",
       "      <td>4680</td>\n",
       "      <td>2004-12-31</td>\n",
       "      <td>Jeopardy!</td>\n",
       "      <td>ESPN's TOP 10 ALL-TIME ATHLETES</td>\n",
       "      <td>$200</td>\n",
       "      <td>No. 2: 1912 Olympian; football star at Carlisl...</td>\n",
       "      <td>Jim Thorpe</td>\n",
       "      <td>200</td>\n",
       "      <td>200</td>\n",
       "    </tr>\n",
       "    <tr>\n",
       "      <th>2</th>\n",
       "      <td>4680</td>\n",
       "      <td>2004-12-31</td>\n",
       "      <td>Jeopardy!</td>\n",
       "      <td>EVERYBODY TALKS ABOUT IT...</td>\n",
       "      <td>$200</td>\n",
       "      <td>The city of Yuma in this state has a record av...</td>\n",
       "      <td>Arizona</td>\n",
       "      <td>200</td>\n",
       "      <td>200</td>\n",
       "    </tr>\n",
       "    <tr>\n",
       "      <th>3</th>\n",
       "      <td>4680</td>\n",
       "      <td>2004-12-31</td>\n",
       "      <td>Jeopardy!</td>\n",
       "      <td>THE COMPANY LINE</td>\n",
       "      <td>$200</td>\n",
       "      <td>In 1963, live on \"The Art Linkletter Show\", th...</td>\n",
       "      <td>McDonald's</td>\n",
       "      <td>200</td>\n",
       "      <td>200</td>\n",
       "    </tr>\n",
       "    <tr>\n",
       "      <th>4</th>\n",
       "      <td>4680</td>\n",
       "      <td>2004-12-31</td>\n",
       "      <td>Jeopardy!</td>\n",
       "      <td>EPITAPHS &amp; TRIBUTES</td>\n",
       "      <td>$200</td>\n",
       "      <td>Signer of the Dec. of Indep., framer of the Co...</td>\n",
       "      <td>John Adams</td>\n",
       "      <td>200</td>\n",
       "      <td>200</td>\n",
       "    </tr>\n",
       "  </tbody>\n",
       "</table>\n",
       "</div>"
      ],
      "text/plain": [
       "   Show_Number    Air_Date      Round                         Category Value  \\\n",
       "0         4680  2004-12-31  Jeopardy!                          HISTORY  $200   \n",
       "1         4680  2004-12-31  Jeopardy!  ESPN's TOP 10 ALL-TIME ATHLETES  $200   \n",
       "2         4680  2004-12-31  Jeopardy!      EVERYBODY TALKS ABOUT IT...  $200   \n",
       "3         4680  2004-12-31  Jeopardy!                 THE COMPANY LINE  $200   \n",
       "4         4680  2004-12-31  Jeopardy!              EPITAPHS & TRIBUTES  $200   \n",
       "\n",
       "                                            Question      Answer  \\\n",
       "0  For the last 8 years of his life, Galileo was ...  Copernicus   \n",
       "1  No. 2: 1912 Olympian; football star at Carlisl...  Jim Thorpe   \n",
       "2  The city of Yuma in this state has a record av...     Arizona   \n",
       "3  In 1963, live on \"The Art Linkletter Show\", th...  McDonald's   \n",
       "4  Signer of the Dec. of Indep., framer of the Co...  John Adams   \n",
       "\n",
       "   Modified_Value  Modified_Bins  \n",
       "0             200            200  \n",
       "1             200            200  \n",
       "2             200            200  \n",
       "3             200            200  \n",
       "4             200            200  "
      ]
     },
     "execution_count": 19,
     "metadata": {},
     "output_type": "execute_result"
    }
   ],
   "source": [
    "jeo_df.head(5)"
   ]
  },
  {
   "cell_type": "code",
   "execution_count": 20,
   "metadata": {
    "execution": {
     "iopub.execute_input": "2021-03-18T05:17:54.387282Z",
     "iopub.status.busy": "2021-03-18T05:17:54.386522Z",
     "iopub.status.idle": "2021-03-18T05:17:54.399905Z",
     "shell.execute_reply": "2021-03-18T05:17:54.399159Z"
    },
    "papermill": {
     "duration": 0.058081,
     "end_time": "2021-03-18T05:17:54.400070",
     "exception": false,
     "start_time": "2021-03-18T05:17:54.341989",
     "status": "completed"
    },
    "tags": []
   },
   "outputs": [
    {
     "data": {
      "text/html": [
       "<div>\n",
       "<style scoped>\n",
       "    .dataframe tbody tr th:only-of-type {\n",
       "        vertical-align: middle;\n",
       "    }\n",
       "\n",
       "    .dataframe tbody tr th {\n",
       "        vertical-align: top;\n",
       "    }\n",
       "\n",
       "    .dataframe thead th {\n",
       "        text-align: right;\n",
       "    }\n",
       "</style>\n",
       "<table border=\"1\" class=\"dataframe\">\n",
       "  <thead>\n",
       "    <tr style=\"text-align: right;\">\n",
       "      <th></th>\n",
       "      <th>Modified_Bins</th>\n",
       "    </tr>\n",
       "  </thead>\n",
       "  <tbody>\n",
       "    <tr>\n",
       "      <th>400</th>\n",
       "      <td>42247</td>\n",
       "    </tr>\n",
       "    <tr>\n",
       "      <th>1000</th>\n",
       "      <td>33789</td>\n",
       "    </tr>\n",
       "    <tr>\n",
       "      <th>800</th>\n",
       "      <td>31865</td>\n",
       "    </tr>\n",
       "    <tr>\n",
       "      <th>200</th>\n",
       "      <td>30460</td>\n",
       "    </tr>\n",
       "    <tr>\n",
       "      <th>2000</th>\n",
       "      <td>25232</td>\n",
       "    </tr>\n",
       "    <tr>\n",
       "      <th>600</th>\n",
       "      <td>20379</td>\n",
       "    </tr>\n",
       "    <tr>\n",
       "      <th>100</th>\n",
       "      <td>9029</td>\n",
       "    </tr>\n",
       "    <tr>\n",
       "      <th>500</th>\n",
       "      <td>9016</td>\n",
       "    </tr>\n",
       "    <tr>\n",
       "      <th>300</th>\n",
       "      <td>8663</td>\n",
       "    </tr>\n",
       "    <tr>\n",
       "      <th>3000</th>\n",
       "      <td>1077</td>\n",
       "    </tr>\n",
       "    <tr>\n",
       "      <th>4000</th>\n",
       "      <td>585</td>\n",
       "    </tr>\n",
       "    <tr>\n",
       "      <th>5000</th>\n",
       "      <td>322</td>\n",
       "    </tr>\n",
       "    <tr>\n",
       "      <th>700</th>\n",
       "      <td>203</td>\n",
       "    </tr>\n",
       "    <tr>\n",
       "      <th>6000</th>\n",
       "      <td>138</td>\n",
       "    </tr>\n",
       "    <tr>\n",
       "      <th>900</th>\n",
       "      <td>114</td>\n",
       "    </tr>\n",
       "    <tr>\n",
       "      <th>7000</th>\n",
       "      <td>60</td>\n",
       "    </tr>\n",
       "    <tr>\n",
       "      <th>10000</th>\n",
       "      <td>45</td>\n",
       "    </tr>\n",
       "    <tr>\n",
       "      <th>8000</th>\n",
       "      <td>43</td>\n",
       "    </tr>\n",
       "    <tr>\n",
       "      <th>9000</th>\n",
       "      <td>15</td>\n",
       "    </tr>\n",
       "    <tr>\n",
       "      <th>0</th>\n",
       "      <td>12</td>\n",
       "    </tr>\n",
       "    <tr>\n",
       "      <th>20000</th>\n",
       "      <td>2</td>\n",
       "    </tr>\n",
       "  </tbody>\n",
       "</table>\n",
       "</div>"
      ],
      "text/plain": [
       "       Modified_Bins\n",
       "400            42247\n",
       "1000           33789\n",
       "800            31865\n",
       "200            30460\n",
       "2000           25232\n",
       "600            20379\n",
       "100             9029\n",
       "500             9016\n",
       "300             8663\n",
       "3000            1077\n",
       "4000             585\n",
       "5000             322\n",
       "700              203\n",
       "6000             138\n",
       "900              114\n",
       "7000              60\n",
       "10000             45\n",
       "8000              43\n",
       "9000              15\n",
       "0                 12\n",
       "20000              2"
      ]
     },
     "execution_count": 20,
     "metadata": {},
     "output_type": "execute_result"
    }
   ],
   "source": [
    "jeo_df['Modified_Bins'].value_counts().to_frame()"
   ]
  },
  {
   "cell_type": "markdown",
   "metadata": {
    "papermill": {
     "duration": 0.039285,
     "end_time": "2021-03-18T05:17:54.479863",
     "exception": false,
     "start_time": "2021-03-18T05:17:54.440578",
     "status": "completed"
    },
    "tags": []
   },
   "source": [
    "**Dropping 20000 bins since it has total count less than 3**"
   ]
  },
  {
   "cell_type": "code",
   "execution_count": 21,
   "metadata": {
    "execution": {
     "iopub.execute_input": "2021-03-18T05:17:54.565392Z",
     "iopub.status.busy": "2021-03-18T05:17:54.564649Z",
     "iopub.status.idle": "2021-03-18T05:17:54.598104Z",
     "shell.execute_reply": "2021-03-18T05:17:54.596977Z"
    },
    "papermill": {
     "duration": 0.079208,
     "end_time": "2021-03-18T05:17:54.598280",
     "exception": false,
     "start_time": "2021-03-18T05:17:54.519072",
     "status": "completed"
    },
    "tags": []
   },
   "outputs": [],
   "source": [
    "jeo_df = jeo_df[jeo_df['Modified_Bins'] != 20000] "
   ]
  },
  {
   "cell_type": "code",
   "execution_count": 22,
   "metadata": {
    "execution": {
     "iopub.execute_input": "2021-03-18T05:17:54.703767Z",
     "iopub.status.busy": "2021-03-18T05:17:54.703010Z",
     "iopub.status.idle": "2021-03-18T05:17:54.706046Z",
     "shell.execute_reply": "2021-03-18T05:17:54.706567Z"
    },
    "papermill": {
     "duration": 0.06898,
     "end_time": "2021-03-18T05:17:54.706769",
     "exception": false,
     "start_time": "2021-03-18T05:17:54.637789",
     "status": "completed"
    },
    "tags": []
   },
   "outputs": [],
   "source": [
    "target = jeo_df[\"Modified_Bins\"] \n",
    "jeo_df.drop(['Modified_Value', \"Value\", \"Modified_Bins\"], axis=1, inplace=True)\n"
   ]
  },
  {
   "cell_type": "code",
   "execution_count": 23,
   "metadata": {
    "execution": {
     "iopub.execute_input": "2021-03-18T05:17:54.791611Z",
     "iopub.status.busy": "2021-03-18T05:17:54.790923Z",
     "iopub.status.idle": "2021-03-18T05:17:54.794355Z",
     "shell.execute_reply": "2021-03-18T05:17:54.794848Z"
    },
    "papermill": {
     "duration": 0.047592,
     "end_time": "2021-03-18T05:17:54.795032",
     "exception": false,
     "start_time": "2021-03-18T05:17:54.747440",
     "status": "completed"
    },
    "tags": []
   },
   "outputs": [],
   "source": [
    "# stop_words = list(get_stop_words('en'))         \n",
    "# nltk_words = list(stopwords.words('english'))\n",
    "# stop_words.extend(nltk_words)\n",
    "# stop_words = set(stop_words)\n",
    "# len(stop_words)"
   ]
  },
  {
   "cell_type": "code",
   "execution_count": 24,
   "metadata": {
    "execution": {
     "iopub.execute_input": "2021-03-18T05:17:54.879151Z",
     "iopub.status.busy": "2021-03-18T05:17:54.878446Z",
     "iopub.status.idle": "2021-03-18T05:17:54.994664Z",
     "shell.execute_reply": "2021-03-18T05:17:54.993972Z"
    },
    "papermill": {
     "duration": 0.15967,
     "end_time": "2021-03-18T05:17:54.994833",
     "exception": false,
     "start_time": "2021-03-18T05:17:54.835163",
     "status": "completed"
    },
    "tags": []
   },
   "outputs": [],
   "source": [
    "#sort dataframe based on time pandas python: https://stackoverflow.com/a/49702492/4084039\n",
    "jeo_df[\"Date\"] = pd.to_datetime(jeo_df['Air_Date'])\n",
    "jeo_df.drop('Air_Date', axis=1, inplace=True)\n",
    "jeo_df.sort_values(by=['Date'], inplace=True)\n"
   ]
  },
  {
   "cell_type": "code",
   "execution_count": 25,
   "metadata": {
    "execution": {
     "iopub.execute_input": "2021-03-18T05:17:55.090997Z",
     "iopub.status.busy": "2021-03-18T05:17:55.090034Z",
     "iopub.status.idle": "2021-03-18T05:17:55.096149Z",
     "shell.execute_reply": "2021-03-18T05:17:55.095322Z"
    },
    "papermill": {
     "duration": 0.061517,
     "end_time": "2021-03-18T05:17:55.096328",
     "exception": false,
     "start_time": "2021-03-18T05:17:55.034811",
     "status": "completed"
    },
    "tags": []
   },
   "outputs": [
    {
     "data": {
      "text/html": [
       "<div>\n",
       "<style scoped>\n",
       "    .dataframe tbody tr th:only-of-type {\n",
       "        vertical-align: middle;\n",
       "    }\n",
       "\n",
       "    .dataframe tbody tr th {\n",
       "        vertical-align: top;\n",
       "    }\n",
       "\n",
       "    .dataframe thead th {\n",
       "        text-align: right;\n",
       "    }\n",
       "</style>\n",
       "<table border=\"1\" class=\"dataframe\">\n",
       "  <thead>\n",
       "    <tr style=\"text-align: right;\">\n",
       "      <th></th>\n",
       "      <th>Show_Number</th>\n",
       "      <th>Round</th>\n",
       "      <th>Category</th>\n",
       "      <th>Question</th>\n",
       "      <th>Answer</th>\n",
       "      <th>Date</th>\n",
       "    </tr>\n",
       "  </thead>\n",
       "  <tbody>\n",
       "    <tr>\n",
       "      <th>84535</th>\n",
       "      <td>1</td>\n",
       "      <td>Jeopardy!</td>\n",
       "      <td>ANIMALS</td>\n",
       "      <td>When husbands \"pop\" for an ermine coat, they'r...</td>\n",
       "      <td>weasel</td>\n",
       "      <td>1984-09-10</td>\n",
       "    </tr>\n",
       "    <tr>\n",
       "      <th>84550</th>\n",
       "      <td>1</td>\n",
       "      <td>Double Jeopardy!</td>\n",
       "      <td>4-LETTER WORDS</td>\n",
       "      <td>Pulled the trigger or what's in a jigger</td>\n",
       "      <td>shot</td>\n",
       "      <td>1984-09-10</td>\n",
       "    </tr>\n",
       "    <tr>\n",
       "      <th>84551</th>\n",
       "      <td>1</td>\n",
       "      <td>Double Jeopardy!</td>\n",
       "      <td>THE BIBLE</td>\n",
       "      <td>His price was 30 pieces of silver</td>\n",
       "      <td>Judas</td>\n",
       "      <td>1984-09-10</td>\n",
       "    </tr>\n",
       "    <tr>\n",
       "      <th>84552</th>\n",
       "      <td>1</td>\n",
       "      <td>Double Jeopardy!</td>\n",
       "      <td>'50'S TV</td>\n",
       "      <td>She was \"Our Miss Brooks\"</td>\n",
       "      <td>Eve Arden</td>\n",
       "      <td>1984-09-10</td>\n",
       "    </tr>\n",
       "    <tr>\n",
       "      <th>84553</th>\n",
       "      <td>1</td>\n",
       "      <td>Double Jeopardy!</td>\n",
       "      <td>NATIONAL LANDMARKS</td>\n",
       "      <td>When he was home, George Washington slept here</td>\n",
       "      <td>Mount Vernon</td>\n",
       "      <td>1984-09-10</td>\n",
       "    </tr>\n",
       "  </tbody>\n",
       "</table>\n",
       "</div>"
      ],
      "text/plain": [
       "       Show_Number             Round            Category  \\\n",
       "84535            1         Jeopardy!             ANIMALS   \n",
       "84550            1  Double Jeopardy!      4-LETTER WORDS   \n",
       "84551            1  Double Jeopardy!           THE BIBLE   \n",
       "84552            1  Double Jeopardy!            '50'S TV   \n",
       "84553            1  Double Jeopardy!  NATIONAL LANDMARKS   \n",
       "\n",
       "                                                Question        Answer  \\\n",
       "84535  When husbands \"pop\" for an ermine coat, they'r...        weasel   \n",
       "84550           Pulled the trigger or what's in a jigger          shot   \n",
       "84551                  His price was 30 pieces of silver         Judas   \n",
       "84552                          She was \"Our Miss Brooks\"     Eve Arden   \n",
       "84553     When he was home, George Washington slept here  Mount Vernon   \n",
       "\n",
       "            Date  \n",
       "84535 1984-09-10  \n",
       "84550 1984-09-10  \n",
       "84551 1984-09-10  \n",
       "84552 1984-09-10  \n",
       "84553 1984-09-10  "
      ]
     },
     "execution_count": 25,
     "metadata": {},
     "output_type": "execute_result"
    }
   ],
   "source": [
    "jeo_df.head(5)"
   ]
  },
  {
   "cell_type": "markdown",
   "metadata": {
    "papermill": {
     "duration": 0.041017,
     "end_time": "2021-03-18T05:17:55.178429",
     "exception": false,
     "start_time": "2021-03-18T05:17:55.137412",
     "status": "completed"
    },
    "tags": []
   },
   "source": [
    "****Text Preprocessing****"
   ]
  },
  {
   "cell_type": "code",
   "execution_count": 26,
   "metadata": {
    "execution": {
     "iopub.execute_input": "2021-03-18T05:17:55.267830Z",
     "iopub.status.busy": "2021-03-18T05:17:55.267138Z",
     "iopub.status.idle": "2021-03-18T05:17:55.270449Z",
     "shell.execute_reply": "2021-03-18T05:17:55.271036Z"
    },
    "papermill": {
     "duration": 0.052436,
     "end_time": "2021-03-18T05:17:55.271221",
     "exception": false,
     "start_time": "2021-03-18T05:17:55.218785",
     "status": "completed"
    },
    "tags": []
   },
   "outputs": [],
   "source": [
    "import re\n",
    "def decontracted(phrase):\n",
    "    # specific\n",
    "    phrase = re.sub(r\"won't\", \"will not\", phrase)\n",
    "    phrase = re.sub(r\"can\\'t\", \"can not\", phrase)\n",
    "\n",
    "    # general\n",
    "    phrase = re.sub(r\"n\\'t\", \" not\", phrase)\n",
    "    phrase = re.sub(r\"\\'re\", \" are\", phrase)\n",
    "    phrase = re.sub(r\"\\'s\", \" is\", phrase)\n",
    "    phrase = re.sub(r\"\\'d\", \" would\", phrase)\n",
    "    phrase = re.sub(r\"\\'ll\", \" will\", phrase)\n",
    "    phrase = re.sub(r\"\\'t\", \" not\", phrase)\n",
    "    phrase = re.sub(r\"\\'ve\", \" have\", phrase)\n",
    "    phrase = re.sub(r\"\\'m\", \" am\", phrase)\n",
    "    return phrase"
   ]
  },
  {
   "cell_type": "code",
   "execution_count": 27,
   "metadata": {
    "execution": {
     "iopub.execute_input": "2021-03-18T05:17:55.357158Z",
     "iopub.status.busy": "2021-03-18T05:17:55.356385Z",
     "iopub.status.idle": "2021-03-18T05:17:55.367913Z",
     "shell.execute_reply": "2021-03-18T05:17:55.368402Z"
    },
    "papermill": {
     "duration": 0.055813,
     "end_time": "2021-03-18T05:17:55.368596",
     "exception": false,
     "start_time": "2021-03-18T05:17:55.312783",
     "status": "completed"
    },
    "tags": []
   },
   "outputs": [],
   "source": [
    "# https://gist.github.com/sebleier/554280\n",
    "# we are removing the words from the stop words list: 'no', 'nor', 'not'\n",
    "stopwords= ['i', 'me', 'my', 'myself', 'we', 'our', 'ours', 'ourselves', 'you', \"you're\", \"you've\",\\\n",
    "            \"you'll\", \"you'd\", 'your', 'yours', 'yourself', 'yourselves', 'he', 'him', 'his', 'himself', \\\n",
    "            'she', \"she's\", 'her', 'hers', 'herself', 'it', \"it's\", 'its', 'itself', 'they', 'them', 'their',\\\n",
    "            'theirs', 'themselves', 'what', 'which', 'who', 'whom', 'this', 'that', \"that'll\", 'these', 'those', \\\n",
    "            'am', 'is', 'are', 'was', 'were', 'be', 'been', 'being', 'have', 'has', 'had', 'having', 'do', 'does', \\\n",
    "            'did', 'doing', 'a', 'an', 'the', 'and', 'but', 'if', 'or', 'because', 'as', 'until', 'while', 'of', \\\n",
    "            'at', 'by', 'for', 'with', 'about', 'against', 'between', 'into', 'through', 'during', 'before', 'after',\\\n",
    "            'above', 'below', 'to', 'from', 'up', 'down', 'in', 'out', 'on', 'off', 'over', 'under', 'again', 'further',\\\n",
    "            'then', 'once', 'here', 'there', 'when', 'where', 'why', 'how', 'all', 'any', 'both', 'each', 'few', 'more',\\\n",
    "            'most', 'other', 'some', 'such', 'only', 'own', 'same', 'so', 'than', 'too', 'very', \\\n",
    "            's', 't', 'can', 'will', 'just', 'don', \"don't\", 'should', \"should've\", 'now', 'd', 'll', 'm', 'o', 're', \\\n",
    "            've', 'y', 'ain', 'aren', \"aren't\", 'couldn', \"couldn't\", 'didn', \"didn't\", 'doesn', \"doesn't\", 'hadn',\\\n",
    "            \"hadn't\", 'hasn', \"hasn't\", 'haven', \"haven't\", 'isn', \"isn't\", 'ma', 'mightn', \"mightn't\", 'mustn',\\\n",
    "            \"mustn't\", 'needn', \"needn't\", 'shan', \"shan't\", 'shouldn', \"shouldn't\", 'wasn', \"wasn't\", 'weren', \"weren't\", \\\n",
    "            'won', \"won't\", 'wouldn', \"wouldn't\"]"
   ]
  },
  {
   "cell_type": "code",
   "execution_count": 28,
   "metadata": {
    "execution": {
     "iopub.execute_input": "2021-03-18T05:17:55.454051Z",
     "iopub.status.busy": "2021-03-18T05:17:55.453319Z",
     "iopub.status.idle": "2021-03-18T05:18:08.437963Z",
     "shell.execute_reply": "2021-03-18T05:18:08.437280Z"
    },
    "papermill": {
     "duration": 13.028529,
     "end_time": "2021-03-18T05:18:08.438109",
     "exception": false,
     "start_time": "2021-03-18T05:17:55.409580",
     "status": "completed"
    },
    "tags": []
   },
   "outputs": [
    {
     "name": "stderr",
     "output_type": "stream",
     "text": [
      "100%|██████████| 213294/213294 [00:12<00:00, 16445.33it/s]\n"
     ]
    }
   ],
   "source": [
    "# Combining all the above stundents \n",
    "from tqdm import tqdm\n",
    "preprocessed_question = []\n",
    "# tqdm is for printing the status bar\n",
    "for sentance in tqdm(jeo_df['Question'].values):\n",
    "    sent = decontracted(sentance)\n",
    "    sent = sent.replace('\\\\r', ' ')\n",
    "    sent = sent.replace('\\\\\"', ' ')\n",
    "    sent = sent.replace('\\\\n', ' ')\n",
    "    sent = re.sub('[^A-Za-z0-9]+', ' ', sent)\n",
    "    # https://gist.github.com/sebleier/554280\n",
    "    sent = ' '.join(e for e in sent.split() if e not in stopwords)\n",
    "    preprocessed_question.append(sent.lower().strip())"
   ]
  },
  {
   "cell_type": "code",
   "execution_count": 29,
   "metadata": {
    "execution": {
     "iopub.execute_input": "2021-03-18T05:18:08.622419Z",
     "iopub.status.busy": "2021-03-18T05:18:08.603347Z",
     "iopub.status.idle": "2021-03-18T05:18:08.706768Z",
     "shell.execute_reply": "2021-03-18T05:18:08.707395Z"
    },
    "papermill": {
     "duration": 0.18962,
     "end_time": "2021-03-18T05:18:08.707580",
     "exception": false,
     "start_time": "2021-03-18T05:18:08.517960",
     "status": "completed"
    },
    "tags": []
   },
   "outputs": [
    {
     "data": {
      "text/html": [
       "<div>\n",
       "<style scoped>\n",
       "    .dataframe tbody tr th:only-of-type {\n",
       "        vertical-align: middle;\n",
       "    }\n",
       "\n",
       "    .dataframe tbody tr th {\n",
       "        vertical-align: top;\n",
       "    }\n",
       "\n",
       "    .dataframe thead th {\n",
       "        text-align: right;\n",
       "    }\n",
       "</style>\n",
       "<table border=\"1\" class=\"dataframe\">\n",
       "  <thead>\n",
       "    <tr style=\"text-align: right;\">\n",
       "      <th></th>\n",
       "      <th>Show_Number</th>\n",
       "      <th>Round</th>\n",
       "      <th>Category</th>\n",
       "      <th>Answer</th>\n",
       "      <th>Preprocessed_Question</th>\n",
       "    </tr>\n",
       "  </thead>\n",
       "  <tbody>\n",
       "    <tr>\n",
       "      <th>84535</th>\n",
       "      <td>1</td>\n",
       "      <td>Jeopardy!</td>\n",
       "      <td>ANIMALS</td>\n",
       "      <td>weasel</td>\n",
       "      <td>when husbands pop ermine coat actually buying fur</td>\n",
       "    </tr>\n",
       "    <tr>\n",
       "      <th>84550</th>\n",
       "      <td>1</td>\n",
       "      <td>Double Jeopardy!</td>\n",
       "      <td>4-LETTER WORDS</td>\n",
       "      <td>shot</td>\n",
       "      <td>pulled trigger jigger</td>\n",
       "    </tr>\n",
       "  </tbody>\n",
       "</table>\n",
       "</div>"
      ],
      "text/plain": [
       "       Show_Number             Round        Category  Answer  \\\n",
       "84535            1         Jeopardy!         ANIMALS  weasel   \n",
       "84550            1  Double Jeopardy!  4-LETTER WORDS    shot   \n",
       "\n",
       "                                   Preprocessed_Question  \n",
       "84535  when husbands pop ermine coat actually buying fur  \n",
       "84550                              pulled trigger jigger  "
      ]
     },
     "execution_count": 29,
     "metadata": {},
     "output_type": "execute_result"
    }
   ],
   "source": [
    "jeo_df['Preprocessed_Question'] = preprocessed_question    #create new column having name  with preprocessed data\n",
    "jeo_df.drop(['Question', 'Date'], axis=1, inplace=True) #delete the column\n",
    "jeo_df.head(2)"
   ]
  },
  {
   "cell_type": "code",
   "execution_count": 30,
   "metadata": {
    "execution": {
     "iopub.execute_input": "2021-03-18T05:18:08.890702Z",
     "iopub.status.busy": "2021-03-18T05:18:08.885517Z",
     "iopub.status.idle": "2021-03-18T05:18:09.211314Z",
     "shell.execute_reply": "2021-03-18T05:18:09.210507Z"
    },
    "papermill": {
     "duration": 0.421483,
     "end_time": "2021-03-18T05:18:09.211482",
     "exception": false,
     "start_time": "2021-03-18T05:18:08.789999",
     "status": "completed"
    },
    "tags": []
   },
   "outputs": [
    {
     "data": {
      "text/html": [
       "<div>\n",
       "<style scoped>\n",
       "    .dataframe tbody tr th:only-of-type {\n",
       "        vertical-align: middle;\n",
       "    }\n",
       "\n",
       "    .dataframe tbody tr th {\n",
       "        vertical-align: top;\n",
       "    }\n",
       "\n",
       "    .dataframe thead th {\n",
       "        text-align: right;\n",
       "    }\n",
       "</style>\n",
       "<table border=\"1\" class=\"dataframe\">\n",
       "  <thead>\n",
       "    <tr style=\"text-align: right;\">\n",
       "      <th></th>\n",
       "      <th>Show_Number</th>\n",
       "      <th>Round</th>\n",
       "      <th>Category</th>\n",
       "      <th>Answer</th>\n",
       "      <th>Preprocessed_Question</th>\n",
       "      <th>Count_Question</th>\n",
       "    </tr>\n",
       "  </thead>\n",
       "  <tbody>\n",
       "    <tr>\n",
       "      <th>84535</th>\n",
       "      <td>1</td>\n",
       "      <td>Jeopardy!</td>\n",
       "      <td>ANIMALS</td>\n",
       "      <td>weasel</td>\n",
       "      <td>when husbands pop ermine coat actually buying fur</td>\n",
       "      <td>8</td>\n",
       "    </tr>\n",
       "    <tr>\n",
       "      <th>84550</th>\n",
       "      <td>1</td>\n",
       "      <td>Double Jeopardy!</td>\n",
       "      <td>4-LETTER WORDS</td>\n",
       "      <td>shot</td>\n",
       "      <td>pulled trigger jigger</td>\n",
       "      <td>3</td>\n",
       "    </tr>\n",
       "    <tr>\n",
       "      <th>84551</th>\n",
       "      <td>1</td>\n",
       "      <td>Double Jeopardy!</td>\n",
       "      <td>THE BIBLE</td>\n",
       "      <td>Judas</td>\n",
       "      <td>his price 30 pieces silver</td>\n",
       "      <td>5</td>\n",
       "    </tr>\n",
       "  </tbody>\n",
       "</table>\n",
       "</div>"
      ],
      "text/plain": [
       "       Show_Number             Round        Category  Answer  \\\n",
       "84535            1         Jeopardy!         ANIMALS  weasel   \n",
       "84550            1  Double Jeopardy!  4-LETTER WORDS    shot   \n",
       "84551            1  Double Jeopardy!       THE BIBLE   Judas   \n",
       "\n",
       "                                   Preprocessed_Question  Count_Question  \n",
       "84535  when husbands pop ermine coat actually buying fur               8  \n",
       "84550                              pulled trigger jigger               3  \n",
       "84551                         his price 30 pieces silver               5  "
      ]
     },
     "execution_count": 30,
     "metadata": {},
     "output_type": "execute_result"
    }
   ],
   "source": [
    "# Feature Engineering\n",
    "\n",
    "def count(line):\n",
    "    num_text=[]\n",
    "    for words in line:\n",
    "        splitted = words.split()\n",
    "        length = len(splitted)\n",
    "        num_text.append(length)\n",
    "    return num_text  \n",
    "\n",
    "jeo_df['Count_Question'] = count(jeo_df['Preprocessed_Question'])    #create new column having name count_Question with preprocessed data\n",
    "jeo_df.head(3)"
   ]
  },
  {
   "cell_type": "markdown",
   "metadata": {
    "papermill": {
     "duration": 0.082515,
     "end_time": "2021-03-18T05:18:09.376429",
     "exception": false,
     "start_time": "2021-03-18T05:18:09.293914",
     "status": "completed"
    },
    "tags": []
   },
   "source": [
    "1. Model Training starts"
   ]
  },
  {
   "cell_type": "code",
   "execution_count": 31,
   "metadata": {
    "execution": {
     "iopub.execute_input": "2021-03-18T05:18:09.546976Z",
     "iopub.status.busy": "2021-03-18T05:18:09.545795Z",
     "iopub.status.idle": "2021-03-18T05:18:09.906361Z",
     "shell.execute_reply": "2021-03-18T05:18:09.905634Z"
    },
    "papermill": {
     "duration": 0.448922,
     "end_time": "2021-03-18T05:18:09.906510",
     "exception": false,
     "start_time": "2021-03-18T05:18:09.457588",
     "status": "completed"
    },
    "tags": []
   },
   "outputs": [],
   "source": [
    "#train_test_split\n",
    "from sklearn.model_selection import train_test_split\n",
    "project_data_train, project_data_test, project_data_y_train, project_data_y_test = train_test_split(jeo_df, target, test_size=0.33, stratify=target)\n",
    "project_data_train, project_data_cv, project_data_y_train, project_data_y_cv = train_test_split(project_data_train, project_data_y_train, test_size=0.33, stratify=project_data_y_train)"
   ]
  },
  {
   "cell_type": "code",
   "execution_count": 32,
   "metadata": {
    "execution": {
     "iopub.execute_input": "2021-03-18T05:18:10.116738Z",
     "iopub.status.busy": "2021-03-18T05:18:10.085309Z",
     "iopub.status.idle": "2021-03-18T05:18:15.549910Z",
     "shell.execute_reply": "2021-03-18T05:18:15.550508Z"
    },
    "papermill": {
     "duration": 5.561529,
     "end_time": "2021-03-18T05:18:15.550697",
     "exception": false,
     "start_time": "2021-03-18T05:18:09.989168",
     "status": "completed"
    },
    "tags": []
   },
   "outputs": [
    {
     "name": "stdout",
     "output_type": "stream",
     "text": [
      "After vectorizations\n",
      "(95747, 2000) (95747,)\n",
      "(47159, 2000) (47159,)\n",
      "(70388, 2000) (70388,)\n",
      "====================================================================================================\n"
     ]
    }
   ],
   "source": [
    "# Question\n",
    "#https://stackoverflow.com/questions/48090658/sklearn-how-to-incorporate-missing-data-when-one-hot-encoding\n",
    "from sklearn.feature_extraction.text import CountVectorizer\n",
    "vectorizer3 = CountVectorizer(lowercase=False, binary=True, max_features=2000)\n",
    "vectorizer3.fit(project_data_train['Preprocessed_Question'].values)\n",
    "#print(vectorizer3.get_feature_names())\n",
    "\n",
    "feat_1_train = vectorizer3.transform(project_data_train['Preprocessed_Question'].values)\n",
    "feat_1_cv = vectorizer3.transform(project_data_cv['Preprocessed_Question'].values)\n",
    "feat_1_test = vectorizer3.transform(project_data_test['Preprocessed_Question'].values)\n",
    "\n",
    "print(\"After vectorizations\")\n",
    "print(feat_1_train.shape, project_data_y_train.shape)\n",
    "print(feat_1_cv.shape, project_data_y_cv.shape)\n",
    "print(feat_1_test.shape, project_data_y_test.shape)\n",
    "print(\"=\"*100)\n"
   ]
  },
  {
   "cell_type": "code",
   "execution_count": 33,
   "metadata": {
    "execution": {
     "iopub.execute_input": "2021-03-18T05:18:15.735450Z",
     "iopub.status.busy": "2021-03-18T05:18:15.724823Z",
     "iopub.status.idle": "2021-03-18T05:18:17.345829Z",
     "shell.execute_reply": "2021-03-18T05:18:17.345281Z"
    },
    "papermill": {
     "duration": 1.713669,
     "end_time": "2021-03-18T05:18:17.345976",
     "exception": false,
     "start_time": "2021-03-18T05:18:15.632307",
     "status": "completed"
    },
    "tags": []
   },
   "outputs": [
    {
     "name": "stdout",
     "output_type": "stream",
     "text": [
      "After vectorizations\n",
      "(95747, 2) (95747,)\n",
      "(47159, 2) (47159,)\n",
      "(70388, 2) (70388,)\n",
      "====================================================================================================\n"
     ]
    }
   ],
   "source": [
    "# Round\n",
    "#https://stackoverflow.com/questions/48090658/sklearn-how-to-incorporate-missing-data-when-one-hot-encoding\n",
    "from sklearn.feature_extraction.text import CountVectorizer\n",
    "vectorizer3 = CountVectorizer(lowercase=False, binary=True, max_features=2000)\n",
    "vectorizer3.fit(project_data_train[\"Round\"].values)\n",
    "#print(vectorizer3.get_feature_names())\n",
    "\n",
    "feat_2_train = vectorizer3.transform(project_data_train['Round'].values)\n",
    "feat_2_cv = vectorizer3.transform(project_data_cv['Round'].values)\n",
    "feat_2_test = vectorizer3.transform(project_data_test['Round'].values)\n",
    "\n",
    "print(\"After vectorizations\")\n",
    "print(feat_2_train.shape, project_data_y_train.shape)\n",
    "print(feat_2_cv.shape, project_data_y_cv.shape)\n",
    "print(feat_2_test.shape, project_data_y_test.shape)\n",
    "print(\"=\"*100)\n"
   ]
  },
  {
   "cell_type": "code",
   "execution_count": 34,
   "metadata": {
    "execution": {
     "iopub.execute_input": "2021-03-18T05:18:17.541342Z",
     "iopub.status.busy": "2021-03-18T05:18:17.535818Z",
     "iopub.status.idle": "2021-03-18T05:18:19.671129Z",
     "shell.execute_reply": "2021-03-18T05:18:19.671713Z"
    },
    "papermill": {
     "duration": 2.243098,
     "end_time": "2021-03-18T05:18:19.671960",
     "exception": false,
     "start_time": "2021-03-18T05:18:17.428862",
     "status": "completed"
    },
    "tags": []
   },
   "outputs": [
    {
     "name": "stdout",
     "output_type": "stream",
     "text": [
      "After vectorizations\n",
      "(95747, 2000) (95747,)\n",
      "(47159, 2000) (47159,)\n",
      "(70388, 2000) (70388,)\n",
      "====================================================================================================\n"
     ]
    }
   ],
   "source": [
    "# Category\n",
    "#https://stackoverflow.com/questions/48090658/sklearn-how-to-incorporate-missing-data-when-one-hot-encoding\n",
    "from sklearn.feature_extraction.text import CountVectorizer\n",
    "vectorizer3 = CountVectorizer(lowercase=False, binary=True, max_features=2000)\n",
    "vectorizer3.fit(project_data_train[\"Category\"].values)\n",
    "#print(vectorizer3.get_feature_names())\n",
    "\n",
    "feat_3_train = vectorizer3.transform(project_data_train['Category'].values)\n",
    "feat_3_cv = vectorizer3.transform(project_data_cv['Category'].values)\n",
    "feat_3_test = vectorizer3.transform(project_data_test['Category'].values)\n",
    "\n",
    "print(\"After vectorizations\")\n",
    "print(feat_3_train.shape, project_data_y_train.shape)\n",
    "print(feat_3_cv.shape, project_data_y_cv.shape)\n",
    "print(feat_3_test.shape, project_data_y_test.shape)\n",
    "print(\"=\"*100)\n"
   ]
  },
  {
   "cell_type": "code",
   "execution_count": 35,
   "metadata": {
    "execution": {
     "iopub.execute_input": "2021-03-18T05:18:19.858632Z",
     "iopub.status.busy": "2021-03-18T05:18:19.853116Z",
     "iopub.status.idle": "2021-03-18T05:18:21.803356Z",
     "shell.execute_reply": "2021-03-18T05:18:21.802278Z"
    },
    "papermill": {
     "duration": 2.048103,
     "end_time": "2021-03-18T05:18:21.803508",
     "exception": false,
     "start_time": "2021-03-18T05:18:19.755405",
     "status": "completed"
    },
    "tags": []
   },
   "outputs": [
    {
     "name": "stdout",
     "output_type": "stream",
     "text": [
      "After vectorizations\n",
      "(95747, 2000) (95747,)\n",
      "(47159, 2000) (47159,)\n",
      "(70388, 2000) (70388,)\n",
      "====================================================================================================\n"
     ]
    }
   ],
   "source": [
    "# Answer\n",
    "#https://stackoverflow.com/questions/48090658/sklearn-how-to-incorporate-missing-data-when-one-hot-encoding\n",
    "from sklearn.feature_extraction.text import CountVectorizer\n",
    "vectorizer3 = CountVectorizer(lowercase=False, binary=True, max_features=2000)\n",
    "vectorizer3.fit(project_data_train[\"Answer\"].values)\n",
    "#print(vectorizer3.get_feature_names())\n",
    "\n",
    "feat_4_train = vectorizer3.transform(project_data_train['Answer'].values)\n",
    "feat_4_cv = vectorizer3.transform(project_data_cv['Answer'].values)\n",
    "feat_4_test = vectorizer3.transform(project_data_test['Answer'].values)\n",
    "\n",
    "print(\"After vectorizations\")\n",
    "print(feat_4_train.shape, project_data_y_train.shape)\n",
    "print(feat_4_cv.shape, project_data_y_cv.shape)\n",
    "print(feat_4_test.shape, project_data_y_test.shape)\n",
    "print(\"=\"*100)\n"
   ]
  },
  {
   "cell_type": "code",
   "execution_count": 36,
   "metadata": {
    "execution": {
     "iopub.execute_input": "2021-03-18T05:18:21.979282Z",
     "iopub.status.busy": "2021-03-18T05:18:21.978500Z",
     "iopub.status.idle": "2021-03-18T05:18:21.987420Z",
     "shell.execute_reply": "2021-03-18T05:18:21.986632Z"
    },
    "papermill": {
     "duration": 0.099927,
     "end_time": "2021-03-18T05:18:21.987585",
     "exception": false,
     "start_time": "2021-03-18T05:18:21.887658",
     "status": "completed"
    },
    "tags": []
   },
   "outputs": [],
   "source": [
    "# check this one: https://www.youtube.com/watch?v=0HOqOcln3Z4&t=530s\n",
    "# standardization sklearn: https://scikit-learn.org/stable/modules/generated/sklearn.preprocessing.StandardScaler.html\n",
    "from sklearn.preprocessing import StandardScaler\n",
    "\n",
    "# quantity_standardized = standardScalar.fit(project_data['quantity'].values)\n",
    "# this will rise the error\n",
    "# ValueError: Expected 2D array, got 1D array instead: array=[725.05 213.03 329.   ... 399.   287.73   5.5 ].\n",
    "# Reshape your data either using array.reshape(-1, 1)\n",
    "\n",
    "num_title_scalar = StandardScaler()\n",
    "num_title_scalar.fit(project_data_train['Count_Question'].values.reshape(-1,1)) # finding the mean and standard deviation of this data\n",
    "#print(f\"Mean : {num_title_scalar.mean_[0]}, Standard deviation : {np.sqrt(num_title_scalar.var_[0])}\")\n",
    "\n",
    "# Now standardize the data with above maen and variance.\n",
    "feat_5_train = num_title_scalar.transform(project_data_train['Count_Question'].values.reshape(-1, 1))\n",
    "feat_5_cv = num_title_scalar.transform(project_data_cv['Count_Question'].values.reshape(-1, 1))\n",
    "feat_5_test = num_title_scalar.transform(project_data_test['Count_Question'].values.reshape(-1, 1))"
   ]
  },
  {
   "cell_type": "code",
   "execution_count": 37,
   "metadata": {
    "execution": {
     "iopub.execute_input": "2021-03-18T05:18:22.165894Z",
     "iopub.status.busy": "2021-03-18T05:18:22.165046Z",
     "iopub.status.idle": "2021-03-18T05:18:22.173009Z",
     "shell.execute_reply": "2021-03-18T05:18:22.172407Z"
    },
    "papermill": {
     "duration": 0.09878,
     "end_time": "2021-03-18T05:18:22.173158",
     "exception": false,
     "start_time": "2021-03-18T05:18:22.074378",
     "status": "completed"
    },
    "tags": []
   },
   "outputs": [],
   "source": [
    "# check this one: https://www.youtube.com/watch?v=0HOqOcln3Z4&t=530s\n",
    "# standardization sklearn: https://scikit-learn.org/stable/modules/generated/sklearn.preprocessing.StandardScaler.html\n",
    "from sklearn.preprocessing import StandardScaler\n",
    "\n",
    "# quantity_standardized = standardScalar.fit(project_data['quantity'].values)\n",
    "# this will rise the error\n",
    "# ValueError: Expected 2D array, got 1D array instead: array=[725.05 213.03 329.   ... 399.   287.73   5.5 ].\n",
    "# Reshape your data either using array.reshape(-1, 1)\n",
    "\n",
    "num_title_scalar = StandardScaler()\n",
    "num_title_scalar.fit(project_data_train['Show_Number'].values.reshape(-1,1)) # finding the mean and standard deviation of this data\n",
    "#print(f\"Mean : {num_title_scalar.mean_[0]}, Standard deviation : {np.sqrt(num_title_scalar.var_[0])}\")\n",
    "\n",
    "# Now standardize the data with above maen and variance.\n",
    "feat_6_train = num_title_scalar.transform(project_data_train['Show_Number'].values.reshape(-1, 1))\n",
    "feat_6_cv = num_title_scalar.transform(project_data_cv['Show_Number'].values.reshape(-1, 1))\n",
    "feat_6_test = num_title_scalar.transform(project_data_test['Show_Number'].values.reshape(-1, 1))"
   ]
  },
  {
   "cell_type": "code",
   "execution_count": 38,
   "metadata": {
    "execution": {
     "iopub.execute_input": "2021-03-18T05:18:22.346443Z",
     "iopub.status.busy": "2021-03-18T05:18:22.345724Z",
     "iopub.status.idle": "2021-03-18T05:18:22.493007Z",
     "shell.execute_reply": "2021-03-18T05:18:22.492370Z"
    },
    "papermill": {
     "duration": 0.236699,
     "end_time": "2021-03-18T05:18:22.493168",
     "exception": false,
     "start_time": "2021-03-18T05:18:22.256469",
     "status": "completed"
    },
    "tags": []
   },
   "outputs": [],
   "source": [
    "# merge two sparse matrices: https://stackoverflow.com/a/19710648/4084039\n",
    "from scipy.sparse import hstack\n",
    "\n",
    "# merge two sparse matrices: https://stackoverflow.com/a/19710648/4084039\n",
    "lr_train_1=hstack((feat_1_train, feat_2_train, feat_3_train, feat_4_train, feat_5_train, feat_6_train)).tocsr()\n",
    "lr_cv_1=hstack((feat_1_cv, feat_2_cv, feat_3_cv, feat_4_cv, feat_5_cv, feat_6_cv)).tocsr()\n",
    "lr_test_1=hstack((feat_1_test, feat_2_test, feat_3_test, feat_4_test, feat_5_test, feat_6_test)).tocsr()\n"
   ]
  },
  {
   "cell_type": "markdown",
   "metadata": {
    "papermill": {
     "duration": 0.084011,
     "end_time": "2021-03-18T05:18:22.661334",
     "exception": false,
     "start_time": "2021-03-18T05:18:22.577323",
     "status": "completed"
    },
    "tags": []
   },
   "source": [
    "**Different models**"
   ]
  },
  {
   "cell_type": "code",
   "execution_count": 39,
   "metadata": {
    "execution": {
     "iopub.execute_input": "2021-03-18T05:18:22.836437Z",
     "iopub.status.busy": "2021-03-18T05:18:22.835652Z",
     "iopub.status.idle": "2021-03-18T05:18:23.378287Z",
     "shell.execute_reply": "2021-03-18T05:18:23.377426Z"
    },
    "papermill": {
     "duration": 0.633189,
     "end_time": "2021-03-18T05:18:23.378460",
     "exception": false,
     "start_time": "2021-03-18T05:18:22.745271",
     "status": "completed"
    },
    "tags": []
   },
   "outputs": [],
   "source": [
    "import random as r\n",
    "from xgboost import XGBClassifier\n",
    "from sklearn.model_selection import RandomizedSearchCV\n",
    "from sklearn.tree import DecisionTreeClassifier\n",
    "from sklearn.calibration import CalibratedClassifierCV\n",
    "from sklearn.neighbors import KNeighborsClassifier\n",
    "from sklearn.metrics import log_loss\n",
    "from sklearn.metrics import confusion_matrix\n",
    "from sklearn.model_selection import train_test_split\n",
    "from sklearn.linear_model import LogisticRegression\n",
    "from sklearn.ensemble import RandomForestClassifier"
   ]
  },
  {
   "cell_type": "code",
   "execution_count": 40,
   "metadata": {
    "execution": {
     "iopub.execute_input": "2021-03-18T05:18:23.554639Z",
     "iopub.status.busy": "2021-03-18T05:18:23.553631Z",
     "iopub.status.idle": "2021-03-18T05:29:04.655630Z",
     "shell.execute_reply": "2021-03-18T05:29:04.655065Z"
    },
    "papermill": {
     "duration": 641.193267,
     "end_time": "2021-03-18T05:29:04.655839",
     "exception": false,
     "start_time": "2021-03-18T05:18:23.462572",
     "status": "completed"
    },
    "tags": []
   },
   "outputs": [
    {
     "name": "stdout",
     "output_type": "stream",
     "text": [
      "Done alpha== 0.001\n",
      "Done alpha== 0.01\n"
     ]
    },
    {
     "name": "stderr",
     "output_type": "stream",
     "text": [
      "/opt/conda/lib/python3.7/site-packages/sklearn/linear_model/_logistic.py:765: ConvergenceWarning: lbfgs failed to converge (status=1):\n",
      "STOP: TOTAL NO. of ITERATIONS REACHED LIMIT.\n",
      "\n",
      "Increase the number of iterations (max_iter) or scale the data as shown in:\n",
      "    https://scikit-learn.org/stable/modules/preprocessing.html\n",
      "Please also refer to the documentation for alternative solver options:\n",
      "    https://scikit-learn.org/stable/modules/linear_model.html#logistic-regression\n",
      "  extra_warning_msg=_LOGISTIC_SOLVER_CONVERGENCE_MSG)\n",
      "/opt/conda/lib/python3.7/site-packages/sklearn/linear_model/_logistic.py:765: ConvergenceWarning: lbfgs failed to converge (status=1):\n",
      "STOP: TOTAL NO. of ITERATIONS REACHED LIMIT.\n",
      "\n",
      "Increase the number of iterations (max_iter) or scale the data as shown in:\n",
      "    https://scikit-learn.org/stable/modules/preprocessing.html\n",
      "Please also refer to the documentation for alternative solver options:\n",
      "    https://scikit-learn.org/stable/modules/linear_model.html#logistic-regression\n",
      "  extra_warning_msg=_LOGISTIC_SOLVER_CONVERGENCE_MSG)\n",
      "/opt/conda/lib/python3.7/site-packages/sklearn/linear_model/_logistic.py:765: ConvergenceWarning: lbfgs failed to converge (status=1):\n",
      "STOP: TOTAL NO. of ITERATIONS REACHED LIMIT.\n",
      "\n",
      "Increase the number of iterations (max_iter) or scale the data as shown in:\n",
      "    https://scikit-learn.org/stable/modules/preprocessing.html\n",
      "Please also refer to the documentation for alternative solver options:\n",
      "    https://scikit-learn.org/stable/modules/linear_model.html#logistic-regression\n",
      "  extra_warning_msg=_LOGISTIC_SOLVER_CONVERGENCE_MSG)\n",
      "/opt/conda/lib/python3.7/site-packages/sklearn/linear_model/_logistic.py:765: ConvergenceWarning: lbfgs failed to converge (status=1):\n",
      "STOP: TOTAL NO. of ITERATIONS REACHED LIMIT.\n",
      "\n",
      "Increase the number of iterations (max_iter) or scale the data as shown in:\n",
      "    https://scikit-learn.org/stable/modules/preprocessing.html\n",
      "Please also refer to the documentation for alternative solver options:\n",
      "    https://scikit-learn.org/stable/modules/linear_model.html#logistic-regression\n",
      "  extra_warning_msg=_LOGISTIC_SOLVER_CONVERGENCE_MSG)\n",
      "/opt/conda/lib/python3.7/site-packages/sklearn/linear_model/_logistic.py:765: ConvergenceWarning: lbfgs failed to converge (status=1):\n",
      "STOP: TOTAL NO. of ITERATIONS REACHED LIMIT.\n",
      "\n",
      "Increase the number of iterations (max_iter) or scale the data as shown in:\n",
      "    https://scikit-learn.org/stable/modules/preprocessing.html\n",
      "Please also refer to the documentation for alternative solver options:\n",
      "    https://scikit-learn.org/stable/modules/linear_model.html#logistic-regression\n",
      "  extra_warning_msg=_LOGISTIC_SOLVER_CONVERGENCE_MSG)\n",
      "/opt/conda/lib/python3.7/site-packages/sklearn/linear_model/_logistic.py:765: ConvergenceWarning: lbfgs failed to converge (status=1):\n",
      "STOP: TOTAL NO. of ITERATIONS REACHED LIMIT.\n",
      "\n",
      "Increase the number of iterations (max_iter) or scale the data as shown in:\n",
      "    https://scikit-learn.org/stable/modules/preprocessing.html\n",
      "Please also refer to the documentation for alternative solver options:\n",
      "    https://scikit-learn.org/stable/modules/linear_model.html#logistic-regression\n",
      "  extra_warning_msg=_LOGISTIC_SOLVER_CONVERGENCE_MSG)\n"
     ]
    },
    {
     "name": "stdout",
     "output_type": "stream",
     "text": [
      "Done alpha== 0.1\n"
     ]
    },
    {
     "name": "stderr",
     "output_type": "stream",
     "text": [
      "/opt/conda/lib/python3.7/site-packages/sklearn/linear_model/_logistic.py:765: ConvergenceWarning: lbfgs failed to converge (status=1):\n",
      "STOP: TOTAL NO. of ITERATIONS REACHED LIMIT.\n",
      "\n",
      "Increase the number of iterations (max_iter) or scale the data as shown in:\n",
      "    https://scikit-learn.org/stable/modules/preprocessing.html\n",
      "Please also refer to the documentation for alternative solver options:\n",
      "    https://scikit-learn.org/stable/modules/linear_model.html#logistic-regression\n",
      "  extra_warning_msg=_LOGISTIC_SOLVER_CONVERGENCE_MSG)\n",
      "/opt/conda/lib/python3.7/site-packages/sklearn/linear_model/_logistic.py:765: ConvergenceWarning: lbfgs failed to converge (status=1):\n",
      "STOP: TOTAL NO. of ITERATIONS REACHED LIMIT.\n",
      "\n",
      "Increase the number of iterations (max_iter) or scale the data as shown in:\n",
      "    https://scikit-learn.org/stable/modules/preprocessing.html\n",
      "Please also refer to the documentation for alternative solver options:\n",
      "    https://scikit-learn.org/stable/modules/linear_model.html#logistic-regression\n",
      "  extra_warning_msg=_LOGISTIC_SOLVER_CONVERGENCE_MSG)\n",
      "/opt/conda/lib/python3.7/site-packages/sklearn/linear_model/_logistic.py:765: ConvergenceWarning: lbfgs failed to converge (status=1):\n",
      "STOP: TOTAL NO. of ITERATIONS REACHED LIMIT.\n",
      "\n",
      "Increase the number of iterations (max_iter) or scale the data as shown in:\n",
      "    https://scikit-learn.org/stable/modules/preprocessing.html\n",
      "Please also refer to the documentation for alternative solver options:\n",
      "    https://scikit-learn.org/stable/modules/linear_model.html#logistic-regression\n",
      "  extra_warning_msg=_LOGISTIC_SOLVER_CONVERGENCE_MSG)\n",
      "/opt/conda/lib/python3.7/site-packages/sklearn/linear_model/_logistic.py:765: ConvergenceWarning: lbfgs failed to converge (status=1):\n",
      "STOP: TOTAL NO. of ITERATIONS REACHED LIMIT.\n",
      "\n",
      "Increase the number of iterations (max_iter) or scale the data as shown in:\n",
      "    https://scikit-learn.org/stable/modules/preprocessing.html\n",
      "Please also refer to the documentation for alternative solver options:\n",
      "    https://scikit-learn.org/stable/modules/linear_model.html#logistic-regression\n",
      "  extra_warning_msg=_LOGISTIC_SOLVER_CONVERGENCE_MSG)\n",
      "/opt/conda/lib/python3.7/site-packages/sklearn/linear_model/_logistic.py:765: ConvergenceWarning: lbfgs failed to converge (status=1):\n",
      "STOP: TOTAL NO. of ITERATIONS REACHED LIMIT.\n",
      "\n",
      "Increase the number of iterations (max_iter) or scale the data as shown in:\n",
      "    https://scikit-learn.org/stable/modules/preprocessing.html\n",
      "Please also refer to the documentation for alternative solver options:\n",
      "    https://scikit-learn.org/stable/modules/linear_model.html#logistic-regression\n",
      "  extra_warning_msg=_LOGISTIC_SOLVER_CONVERGENCE_MSG)\n",
      "/opt/conda/lib/python3.7/site-packages/sklearn/linear_model/_logistic.py:765: ConvergenceWarning: lbfgs failed to converge (status=1):\n",
      "STOP: TOTAL NO. of ITERATIONS REACHED LIMIT.\n",
      "\n",
      "Increase the number of iterations (max_iter) or scale the data as shown in:\n",
      "    https://scikit-learn.org/stable/modules/preprocessing.html\n",
      "Please also refer to the documentation for alternative solver options:\n",
      "    https://scikit-learn.org/stable/modules/linear_model.html#logistic-regression\n",
      "  extra_warning_msg=_LOGISTIC_SOLVER_CONVERGENCE_MSG)\n"
     ]
    },
    {
     "name": "stdout",
     "output_type": "stream",
     "text": [
      "Done alpha== 1\n"
     ]
    },
    {
     "name": "stderr",
     "output_type": "stream",
     "text": [
      "/opt/conda/lib/python3.7/site-packages/sklearn/linear_model/_logistic.py:765: ConvergenceWarning: lbfgs failed to converge (status=1):\n",
      "STOP: TOTAL NO. of ITERATIONS REACHED LIMIT.\n",
      "\n",
      "Increase the number of iterations (max_iter) or scale the data as shown in:\n",
      "    https://scikit-learn.org/stable/modules/preprocessing.html\n",
      "Please also refer to the documentation for alternative solver options:\n",
      "    https://scikit-learn.org/stable/modules/linear_model.html#logistic-regression\n",
      "  extra_warning_msg=_LOGISTIC_SOLVER_CONVERGENCE_MSG)\n",
      "/opt/conda/lib/python3.7/site-packages/sklearn/linear_model/_logistic.py:765: ConvergenceWarning: lbfgs failed to converge (status=1):\n",
      "STOP: TOTAL NO. of ITERATIONS REACHED LIMIT.\n",
      "\n",
      "Increase the number of iterations (max_iter) or scale the data as shown in:\n",
      "    https://scikit-learn.org/stable/modules/preprocessing.html\n",
      "Please also refer to the documentation for alternative solver options:\n",
      "    https://scikit-learn.org/stable/modules/linear_model.html#logistic-regression\n",
      "  extra_warning_msg=_LOGISTIC_SOLVER_CONVERGENCE_MSG)\n",
      "/opt/conda/lib/python3.7/site-packages/sklearn/linear_model/_logistic.py:765: ConvergenceWarning: lbfgs failed to converge (status=1):\n",
      "STOP: TOTAL NO. of ITERATIONS REACHED LIMIT.\n",
      "\n",
      "Increase the number of iterations (max_iter) or scale the data as shown in:\n",
      "    https://scikit-learn.org/stable/modules/preprocessing.html\n",
      "Please also refer to the documentation for alternative solver options:\n",
      "    https://scikit-learn.org/stable/modules/linear_model.html#logistic-regression\n",
      "  extra_warning_msg=_LOGISTIC_SOLVER_CONVERGENCE_MSG)\n",
      "/opt/conda/lib/python3.7/site-packages/sklearn/linear_model/_logistic.py:765: ConvergenceWarning: lbfgs failed to converge (status=1):\n",
      "STOP: TOTAL NO. of ITERATIONS REACHED LIMIT.\n",
      "\n",
      "Increase the number of iterations (max_iter) or scale the data as shown in:\n",
      "    https://scikit-learn.org/stable/modules/preprocessing.html\n",
      "Please also refer to the documentation for alternative solver options:\n",
      "    https://scikit-learn.org/stable/modules/linear_model.html#logistic-regression\n",
      "  extra_warning_msg=_LOGISTIC_SOLVER_CONVERGENCE_MSG)\n",
      "/opt/conda/lib/python3.7/site-packages/sklearn/linear_model/_logistic.py:765: ConvergenceWarning: lbfgs failed to converge (status=1):\n",
      "STOP: TOTAL NO. of ITERATIONS REACHED LIMIT.\n",
      "\n",
      "Increase the number of iterations (max_iter) or scale the data as shown in:\n",
      "    https://scikit-learn.org/stable/modules/preprocessing.html\n",
      "Please also refer to the documentation for alternative solver options:\n",
      "    https://scikit-learn.org/stable/modules/linear_model.html#logistic-regression\n",
      "  extra_warning_msg=_LOGISTIC_SOLVER_CONVERGENCE_MSG)\n",
      "/opt/conda/lib/python3.7/site-packages/sklearn/linear_model/_logistic.py:765: ConvergenceWarning: lbfgs failed to converge (status=1):\n",
      "STOP: TOTAL NO. of ITERATIONS REACHED LIMIT.\n",
      "\n",
      "Increase the number of iterations (max_iter) or scale the data as shown in:\n",
      "    https://scikit-learn.org/stable/modules/preprocessing.html\n",
      "Please also refer to the documentation for alternative solver options:\n",
      "    https://scikit-learn.org/stable/modules/linear_model.html#logistic-regression\n",
      "  extra_warning_msg=_LOGISTIC_SOLVER_CONVERGENCE_MSG)\n"
     ]
    },
    {
     "name": "stdout",
     "output_type": "stream",
     "text": [
      "Done alpha== 10\n"
     ]
    },
    {
     "name": "stderr",
     "output_type": "stream",
     "text": [
      "/opt/conda/lib/python3.7/site-packages/sklearn/linear_model/_logistic.py:765: ConvergenceWarning: lbfgs failed to converge (status=1):\n",
      "STOP: TOTAL NO. of ITERATIONS REACHED LIMIT.\n",
      "\n",
      "Increase the number of iterations (max_iter) or scale the data as shown in:\n",
      "    https://scikit-learn.org/stable/modules/preprocessing.html\n",
      "Please also refer to the documentation for alternative solver options:\n",
      "    https://scikit-learn.org/stable/modules/linear_model.html#logistic-regression\n",
      "  extra_warning_msg=_LOGISTIC_SOLVER_CONVERGENCE_MSG)\n",
      "/opt/conda/lib/python3.7/site-packages/sklearn/linear_model/_logistic.py:765: ConvergenceWarning: lbfgs failed to converge (status=1):\n",
      "STOP: TOTAL NO. of ITERATIONS REACHED LIMIT.\n",
      "\n",
      "Increase the number of iterations (max_iter) or scale the data as shown in:\n",
      "    https://scikit-learn.org/stable/modules/preprocessing.html\n",
      "Please also refer to the documentation for alternative solver options:\n",
      "    https://scikit-learn.org/stable/modules/linear_model.html#logistic-regression\n",
      "  extra_warning_msg=_LOGISTIC_SOLVER_CONVERGENCE_MSG)\n",
      "/opt/conda/lib/python3.7/site-packages/sklearn/linear_model/_logistic.py:765: ConvergenceWarning: lbfgs failed to converge (status=1):\n",
      "STOP: TOTAL NO. of ITERATIONS REACHED LIMIT.\n",
      "\n",
      "Increase the number of iterations (max_iter) or scale the data as shown in:\n",
      "    https://scikit-learn.org/stable/modules/preprocessing.html\n",
      "Please also refer to the documentation for alternative solver options:\n",
      "    https://scikit-learn.org/stable/modules/linear_model.html#logistic-regression\n",
      "  extra_warning_msg=_LOGISTIC_SOLVER_CONVERGENCE_MSG)\n",
      "/opt/conda/lib/python3.7/site-packages/sklearn/linear_model/_logistic.py:765: ConvergenceWarning: lbfgs failed to converge (status=1):\n",
      "STOP: TOTAL NO. of ITERATIONS REACHED LIMIT.\n",
      "\n",
      "Increase the number of iterations (max_iter) or scale the data as shown in:\n",
      "    https://scikit-learn.org/stable/modules/preprocessing.html\n",
      "Please also refer to the documentation for alternative solver options:\n",
      "    https://scikit-learn.org/stable/modules/linear_model.html#logistic-regression\n",
      "  extra_warning_msg=_LOGISTIC_SOLVER_CONVERGENCE_MSG)\n",
      "/opt/conda/lib/python3.7/site-packages/sklearn/linear_model/_logistic.py:765: ConvergenceWarning: lbfgs failed to converge (status=1):\n",
      "STOP: TOTAL NO. of ITERATIONS REACHED LIMIT.\n",
      "\n",
      "Increase the number of iterations (max_iter) or scale the data as shown in:\n",
      "    https://scikit-learn.org/stable/modules/preprocessing.html\n",
      "Please also refer to the documentation for alternative solver options:\n",
      "    https://scikit-learn.org/stable/modules/linear_model.html#logistic-regression\n",
      "  extra_warning_msg=_LOGISTIC_SOLVER_CONVERGENCE_MSG)\n",
      "/opt/conda/lib/python3.7/site-packages/sklearn/linear_model/_logistic.py:765: ConvergenceWarning: lbfgs failed to converge (status=1):\n",
      "STOP: TOTAL NO. of ITERATIONS REACHED LIMIT.\n",
      "\n",
      "Increase the number of iterations (max_iter) or scale the data as shown in:\n",
      "    https://scikit-learn.org/stable/modules/preprocessing.html\n",
      "Please also refer to the documentation for alternative solver options:\n",
      "    https://scikit-learn.org/stable/modules/linear_model.html#logistic-regression\n",
      "  extra_warning_msg=_LOGISTIC_SOLVER_CONVERGENCE_MSG)\n"
     ]
    },
    {
     "name": "stdout",
     "output_type": "stream",
     "text": [
      "Done alpha== 100\n",
      "log_loss for c =  0.001 is 2.1242951977955418\n",
      "log_loss for c =  0.01 is 2.1243426256624893\n",
      "log_loss for c =  0.1 is 2.1244776991208143\n",
      "log_loss for c =  1 is 2.124526251741815\n",
      "log_loss for c =  10 is 2.1243669232005584\n",
      "log_loss for c =  100 is 2.124345030060934\n"
     ]
    }
   ],
   "source": [
    "alpha = [10 ** x for x in range(-3, 3)]\n",
    "cv_log_error_array=[]\n",
    "for i in alpha:\n",
    "    logisticR=LogisticRegression(penalty='l2',C=i,class_weight='balanced')\n",
    "    logisticR.fit(lr_train_1,project_data_y_train)\n",
    "    sig_clf = CalibratedClassifierCV(logisticR, method=\"sigmoid\")\n",
    "    sig_clf.fit(lr_train_1, project_data_y_train)\n",
    "    predict_y = sig_clf.predict_proba(lr_cv_1)\n",
    "    cv_log_error_array.append(log_loss(project_data_y_cv, predict_y, labels=logisticR.classes_, eps=1e-15))\n",
    "    print(f\"Done alpha== {i}\")\n",
    "    \n",
    "for i in range(len(cv_log_error_array)):\n",
    "    print ('log_loss for c = ',alpha[i],'is',cv_log_error_array[i])\n"
   ]
  },
  {
   "cell_type": "code",
   "execution_count": 41,
   "metadata": {
    "execution": {
     "iopub.execute_input": "2021-03-18T05:29:04.872971Z",
     "iopub.status.busy": "2021-03-18T05:29:04.856592Z",
     "iopub.status.idle": "2021-03-18T05:29:44.049049Z",
     "shell.execute_reply": "2021-03-18T05:29:44.049569Z"
    },
    "papermill": {
     "duration": 39.301044,
     "end_time": "2021-03-18T05:29:44.049741",
     "exception": false,
     "start_time": "2021-03-18T05:29:04.748697",
     "status": "completed"
    },
    "tags": []
   },
   "outputs": [
    {
     "data": {
      "image/png": "[encoded data removed]",
      "text/plain": [
       "<Figure size 432x288 with 1 Axes>"
      ]
     },
     "metadata": {
      "needs_background": "light"
     },
     "output_type": "display_data"
    },
    {
     "name": "stdout",
     "output_type": "stream",
     "text": [
      "log loss for train data 2.1233597318336446\n",
      "log loss for cv data 2.1242951977955418\n",
      "log loss for test data 2.124354991689253\n"
     ]
    }
   ],
   "source": [
    "import matplotlib.pyplot as plt\n",
    "best_alpha = np.argmin(cv_log_error_array)\n",
    "\n",
    "fig, ax = plt.subplots()\n",
    "ax.plot(alpha, cv_log_error_array,c='g')\n",
    "for i, txt in enumerate(np.round(cv_log_error_array,3)):\n",
    "    ax.annotate((alpha[i],np.round(txt,3)), (alpha[i],cv_log_error_array[i]))\n",
    "plt.grid()\n",
    "plt.title(\"Cross Validation Error for each alpha\")\n",
    "plt.xlabel(\"Alpha i's\")\n",
    "plt.ylabel(\"Error measure\")\n",
    "plt.show()\n",
    "\n",
    "logisticR=LogisticRegression(penalty='l2',C=alpha[best_alpha],class_weight='balanced')\n",
    "logisticR.fit(lr_train_1,project_data_y_train)\n",
    "sig_clf = CalibratedClassifierCV(logisticR, method=\"sigmoid\")\n",
    "sig_clf.fit(lr_train_1, project_data_y_train)\n",
    "pred_y=sig_clf.predict(lr_test_1)\n",
    "\n",
    "predict_y = sig_clf.predict_proba(lr_train_1)\n",
    "print ('log loss for train data',log_loss(project_data_y_train, predict_y, labels=logisticR.classes_, eps=1e-15))\n",
    "predict_y = sig_clf.predict_proba(lr_cv_1)\n",
    "print ('log loss for cv data',log_loss(project_data_y_cv, predict_y, labels=logisticR.classes_, eps=1e-15))\n",
    "predict_y = sig_clf.predict_proba(lr_test_1)\n",
    "print ('log loss for test data',log_loss(project_data_y_test, predict_y, labels=logisticR.classes_, eps=1e-15))"
   ]
  },
  {
   "cell_type": "code",
   "execution_count": 42,
   "metadata": {
    "execution": {
     "iopub.execute_input": "2021-03-18T05:29:44.253098Z",
     "iopub.status.busy": "2021-03-18T05:29:44.252294Z",
     "iopub.status.idle": "2021-03-18T05:34:57.761130Z",
     "shell.execute_reply": "2021-03-18T05:34:57.761974Z"
    },
    "papermill": {
     "duration": 313.612871,
     "end_time": "2021-03-18T05:34:57.762189",
     "exception": false,
     "start_time": "2021-03-18T05:29:44.149318",
     "status": "completed"
    },
    "tags": []
   },
   "outputs": [
    {
     "name": "stderr",
     "output_type": "stream",
     "text": [
      "/opt/conda/lib/python3.7/site-packages/xgboost/sklearn.py:888: UserWarning: The use of label encoder in XGBClassifier is deprecated and will be removed in a future release. To remove this warning, do the following: 1) Pass option use_label_encoder=False when constructing XGBClassifier object; and 2) Encode your labels (y) as integers starting with 0, i.e. 0, 1, 2, ..., [num_class - 1].\n",
      "  warnings.warn(label_encoder_deprecation_msg, UserWarning)\n"
     ]
    },
    {
     "name": "stdout",
     "output_type": "stream",
     "text": [
      "[05:29:45] WARNING: ../src/learner.cc:1061: Starting in XGBoost 1.3.0, the default evaluation metric used with the objective 'multi:softprob' was changed from 'merror' to 'mlogloss'. Explicitly set eval_metric if you'd like to restore the old behavior.\n"
     ]
    },
    {
     "name": "stderr",
     "output_type": "stream",
     "text": [
      "/opt/conda/lib/python3.7/site-packages/xgboost/sklearn.py:888: UserWarning: The use of label encoder in XGBClassifier is deprecated and will be removed in a future release. To remove this warning, do the following: 1) Pass option use_label_encoder=False when constructing XGBClassifier object; and 2) Encode your labels (y) as integers starting with 0, i.e. 0, 1, 2, ..., [num_class - 1].\n",
      "  warnings.warn(label_encoder_deprecation_msg, UserWarning)\n"
     ]
    },
    {
     "name": "stdout",
     "output_type": "stream",
     "text": [
      "[05:29:50] WARNING: ../src/learner.cc:1061: Starting in XGBoost 1.3.0, the default evaluation metric used with the objective 'multi:softprob' was changed from 'merror' to 'mlogloss'. Explicitly set eval_metric if you'd like to restore the old behavior.\n"
     ]
    },
    {
     "name": "stderr",
     "output_type": "stream",
     "text": [
      "/opt/conda/lib/python3.7/site-packages/xgboost/sklearn.py:888: UserWarning: The use of label encoder in XGBClassifier is deprecated and will be removed in a future release. To remove this warning, do the following: 1) Pass option use_label_encoder=False when constructing XGBClassifier object; and 2) Encode your labels (y) as integers starting with 0, i.e. 0, 1, 2, ..., [num_class - 1].\n",
      "  warnings.warn(label_encoder_deprecation_msg, UserWarning)\n"
     ]
    },
    {
     "name": "stdout",
     "output_type": "stream",
     "text": [
      "[05:29:56] WARNING: ../src/learner.cc:1061: Starting in XGBoost 1.3.0, the default evaluation metric used with the objective 'multi:softprob' was changed from 'merror' to 'mlogloss'. Explicitly set eval_metric if you'd like to restore the old behavior.\n"
     ]
    },
    {
     "name": "stderr",
     "output_type": "stream",
     "text": [
      "/opt/conda/lib/python3.7/site-packages/xgboost/sklearn.py:888: UserWarning: The use of label encoder in XGBClassifier is deprecated and will be removed in a future release. To remove this warning, do the following: 1) Pass option use_label_encoder=False when constructing XGBClassifier object; and 2) Encode your labels (y) as integers starting with 0, i.e. 0, 1, 2, ..., [num_class - 1].\n",
      "  warnings.warn(label_encoder_deprecation_msg, UserWarning)\n"
     ]
    },
    {
     "name": "stdout",
     "output_type": "stream",
     "text": [
      "[05:30:02] WARNING: ../src/learner.cc:1061: Starting in XGBoost 1.3.0, the default evaluation metric used with the objective 'multi:softprob' was changed from 'merror' to 'mlogloss'. Explicitly set eval_metric if you'd like to restore the old behavior.\n"
     ]
    },
    {
     "name": "stderr",
     "output_type": "stream",
     "text": [
      "/opt/conda/lib/python3.7/site-packages/xgboost/sklearn.py:888: UserWarning: The use of label encoder in XGBClassifier is deprecated and will be removed in a future release. To remove this warning, do the following: 1) Pass option use_label_encoder=False when constructing XGBClassifier object; and 2) Encode your labels (y) as integers starting with 0, i.e. 0, 1, 2, ..., [num_class - 1].\n",
      "  warnings.warn(label_encoder_deprecation_msg, UserWarning)\n"
     ]
    },
    {
     "name": "stdout",
     "output_type": "stream",
     "text": [
      "[05:30:08] WARNING: ../src/learner.cc:1061: Starting in XGBoost 1.3.0, the default evaluation metric used with the objective 'multi:softprob' was changed from 'merror' to 'mlogloss'. Explicitly set eval_metric if you'd like to restore the old behavior.\n"
     ]
    },
    {
     "name": "stderr",
     "output_type": "stream",
     "text": [
      "/opt/conda/lib/python3.7/site-packages/xgboost/sklearn.py:888: UserWarning: The use of label encoder in XGBClassifier is deprecated and will be removed in a future release. To remove this warning, do the following: 1) Pass option use_label_encoder=False when constructing XGBClassifier object; and 2) Encode your labels (y) as integers starting with 0, i.e. 0, 1, 2, ..., [num_class - 1].\n",
      "  warnings.warn(label_encoder_deprecation_msg, UserWarning)\n"
     ]
    },
    {
     "name": "stdout",
     "output_type": "stream",
     "text": [
      "[05:30:14] WARNING: ../src/learner.cc:1061: Starting in XGBoost 1.3.0, the default evaluation metric used with the objective 'multi:softprob' was changed from 'merror' to 'mlogloss'. Explicitly set eval_metric if you'd like to restore the old behavior.\n",
      "Done alpha== 5\n"
     ]
    },
    {
     "name": "stderr",
     "output_type": "stream",
     "text": [
      "/opt/conda/lib/python3.7/site-packages/xgboost/sklearn.py:888: UserWarning: The use of label encoder in XGBClassifier is deprecated and will be removed in a future release. To remove this warning, do the following: 1) Pass option use_label_encoder=False when constructing XGBClassifier object; and 2) Encode your labels (y) as integers starting with 0, i.e. 0, 1, 2, ..., [num_class - 1].\n",
      "  warnings.warn(label_encoder_deprecation_msg, UserWarning)\n"
     ]
    },
    {
     "name": "stdout",
     "output_type": "stream",
     "text": [
      "[05:30:23] WARNING: ../src/learner.cc:1061: Starting in XGBoost 1.3.0, the default evaluation metric used with the objective 'multi:softprob' was changed from 'merror' to 'mlogloss'. Explicitly set eval_metric if you'd like to restore the old behavior.\n"
     ]
    },
    {
     "name": "stderr",
     "output_type": "stream",
     "text": [
      "/opt/conda/lib/python3.7/site-packages/xgboost/sklearn.py:888: UserWarning: The use of label encoder in XGBClassifier is deprecated and will be removed in a future release. To remove this warning, do the following: 1) Pass option use_label_encoder=False when constructing XGBClassifier object; and 2) Encode your labels (y) as integers starting with 0, i.e. 0, 1, 2, ..., [num_class - 1].\n",
      "  warnings.warn(label_encoder_deprecation_msg, UserWarning)\n"
     ]
    },
    {
     "name": "stdout",
     "output_type": "stream",
     "text": [
      "[05:30:31] WARNING: ../src/learner.cc:1061: Starting in XGBoost 1.3.0, the default evaluation metric used with the objective 'multi:softprob' was changed from 'merror' to 'mlogloss'. Explicitly set eval_metric if you'd like to restore the old behavior.\n"
     ]
    },
    {
     "name": "stderr",
     "output_type": "stream",
     "text": [
      "/opt/conda/lib/python3.7/site-packages/xgboost/sklearn.py:888: UserWarning: The use of label encoder in XGBClassifier is deprecated and will be removed in a future release. To remove this warning, do the following: 1) Pass option use_label_encoder=False when constructing XGBClassifier object; and 2) Encode your labels (y) as integers starting with 0, i.e. 0, 1, 2, ..., [num_class - 1].\n",
      "  warnings.warn(label_encoder_deprecation_msg, UserWarning)\n"
     ]
    },
    {
     "name": "stdout",
     "output_type": "stream",
     "text": [
      "[05:30:39] WARNING: ../src/learner.cc:1061: Starting in XGBoost 1.3.0, the default evaluation metric used with the objective 'multi:softprob' was changed from 'merror' to 'mlogloss'. Explicitly set eval_metric if you'd like to restore the old behavior.\n"
     ]
    },
    {
     "name": "stderr",
     "output_type": "stream",
     "text": [
      "/opt/conda/lib/python3.7/site-packages/xgboost/sklearn.py:888: UserWarning: The use of label encoder in XGBClassifier is deprecated and will be removed in a future release. To remove this warning, do the following: 1) Pass option use_label_encoder=False when constructing XGBClassifier object; and 2) Encode your labels (y) as integers starting with 0, i.e. 0, 1, 2, ..., [num_class - 1].\n",
      "  warnings.warn(label_encoder_deprecation_msg, UserWarning)\n"
     ]
    },
    {
     "name": "stdout",
     "output_type": "stream",
     "text": [
      "[05:30:49] WARNING: ../src/learner.cc:1061: Starting in XGBoost 1.3.0, the default evaluation metric used with the objective 'multi:softprob' was changed from 'merror' to 'mlogloss'. Explicitly set eval_metric if you'd like to restore the old behavior.\n"
     ]
    },
    {
     "name": "stderr",
     "output_type": "stream",
     "text": [
      "/opt/conda/lib/python3.7/site-packages/xgboost/sklearn.py:888: UserWarning: The use of label encoder in XGBClassifier is deprecated and will be removed in a future release. To remove this warning, do the following: 1) Pass option use_label_encoder=False when constructing XGBClassifier object; and 2) Encode your labels (y) as integers starting with 0, i.e. 0, 1, 2, ..., [num_class - 1].\n",
      "  warnings.warn(label_encoder_deprecation_msg, UserWarning)\n"
     ]
    },
    {
     "name": "stdout",
     "output_type": "stream",
     "text": [
      "[05:30:59] WARNING: ../src/learner.cc:1061: Starting in XGBoost 1.3.0, the default evaluation metric used with the objective 'multi:softprob' was changed from 'merror' to 'mlogloss'. Explicitly set eval_metric if you'd like to restore the old behavior.\n"
     ]
    },
    {
     "name": "stderr",
     "output_type": "stream",
     "text": [
      "/opt/conda/lib/python3.7/site-packages/xgboost/sklearn.py:888: UserWarning: The use of label encoder in XGBClassifier is deprecated and will be removed in a future release. To remove this warning, do the following: 1) Pass option use_label_encoder=False when constructing XGBClassifier object; and 2) Encode your labels (y) as integers starting with 0, i.e. 0, 1, 2, ..., [num_class - 1].\n",
      "  warnings.warn(label_encoder_deprecation_msg, UserWarning)\n"
     ]
    },
    {
     "name": "stdout",
     "output_type": "stream",
     "text": [
      "[05:31:08] WARNING: ../src/learner.cc:1061: Starting in XGBoost 1.3.0, the default evaluation metric used with the objective 'multi:softprob' was changed from 'merror' to 'mlogloss'. Explicitly set eval_metric if you'd like to restore the old behavior.\n",
      "Done alpha== 10\n"
     ]
    },
    {
     "name": "stderr",
     "output_type": "stream",
     "text": [
      "/opt/conda/lib/python3.7/site-packages/xgboost/sklearn.py:888: UserWarning: The use of label encoder in XGBClassifier is deprecated and will be removed in a future release. To remove this warning, do the following: 1) Pass option use_label_encoder=False when constructing XGBClassifier object; and 2) Encode your labels (y) as integers starting with 0, i.e. 0, 1, 2, ..., [num_class - 1].\n",
      "  warnings.warn(label_encoder_deprecation_msg, UserWarning)\n"
     ]
    },
    {
     "name": "stdout",
     "output_type": "stream",
     "text": [
      "[05:31:20] WARNING: ../src/learner.cc:1061: Starting in XGBoost 1.3.0, the default evaluation metric used with the objective 'multi:softprob' was changed from 'merror' to 'mlogloss'. Explicitly set eval_metric if you'd like to restore the old behavior.\n"
     ]
    },
    {
     "name": "stderr",
     "output_type": "stream",
     "text": [
      "/opt/conda/lib/python3.7/site-packages/xgboost/sklearn.py:888: UserWarning: The use of label encoder in XGBClassifier is deprecated and will be removed in a future release. To remove this warning, do the following: 1) Pass option use_label_encoder=False when constructing XGBClassifier object; and 2) Encode your labels (y) as integers starting with 0, i.e. 0, 1, 2, ..., [num_class - 1].\n",
      "  warnings.warn(label_encoder_deprecation_msg, UserWarning)\n"
     ]
    },
    {
     "name": "stdout",
     "output_type": "stream",
     "text": [
      "[05:32:01] WARNING: ../src/learner.cc:1061: Starting in XGBoost 1.3.0, the default evaluation metric used with the objective 'multi:softprob' was changed from 'merror' to 'mlogloss'. Explicitly set eval_metric if you'd like to restore the old behavior.\n"
     ]
    },
    {
     "name": "stderr",
     "output_type": "stream",
     "text": [
      "/opt/conda/lib/python3.7/site-packages/xgboost/sklearn.py:888: UserWarning: The use of label encoder in XGBClassifier is deprecated and will be removed in a future release. To remove this warning, do the following: 1) Pass option use_label_encoder=False when constructing XGBClassifier object; and 2) Encode your labels (y) as integers starting with 0, i.e. 0, 1, 2, ..., [num_class - 1].\n",
      "  warnings.warn(label_encoder_deprecation_msg, UserWarning)\n"
     ]
    },
    {
     "name": "stdout",
     "output_type": "stream",
     "text": [
      "[05:32:35] WARNING: ../src/learner.cc:1061: Starting in XGBoost 1.3.0, the default evaluation metric used with the objective 'multi:softprob' was changed from 'merror' to 'mlogloss'. Explicitly set eval_metric if you'd like to restore the old behavior.\n"
     ]
    },
    {
     "name": "stderr",
     "output_type": "stream",
     "text": [
      "/opt/conda/lib/python3.7/site-packages/xgboost/sklearn.py:888: UserWarning: The use of label encoder in XGBClassifier is deprecated and will be removed in a future release. To remove this warning, do the following: 1) Pass option use_label_encoder=False when constructing XGBClassifier object; and 2) Encode your labels (y) as integers starting with 0, i.e. 0, 1, 2, ..., [num_class - 1].\n",
      "  warnings.warn(label_encoder_deprecation_msg, UserWarning)\n"
     ]
    },
    {
     "name": "stdout",
     "output_type": "stream",
     "text": [
      "[05:33:08] WARNING: ../src/learner.cc:1061: Starting in XGBoost 1.3.0, the default evaluation metric used with the objective 'multi:softprob' was changed from 'merror' to 'mlogloss'. Explicitly set eval_metric if you'd like to restore the old behavior.\n"
     ]
    },
    {
     "name": "stderr",
     "output_type": "stream",
     "text": [
      "/opt/conda/lib/python3.7/site-packages/xgboost/sklearn.py:888: UserWarning: The use of label encoder in XGBClassifier is deprecated and will be removed in a future release. To remove this warning, do the following: 1) Pass option use_label_encoder=False when constructing XGBClassifier object; and 2) Encode your labels (y) as integers starting with 0, i.e. 0, 1, 2, ..., [num_class - 1].\n",
      "  warnings.warn(label_encoder_deprecation_msg, UserWarning)\n"
     ]
    },
    {
     "name": "stdout",
     "output_type": "stream",
     "text": [
      "[05:33:44] WARNING: ../src/learner.cc:1061: Starting in XGBoost 1.3.0, the default evaluation metric used with the objective 'multi:softprob' was changed from 'merror' to 'mlogloss'. Explicitly set eval_metric if you'd like to restore the old behavior.\n"
     ]
    },
    {
     "name": "stderr",
     "output_type": "stream",
     "text": [
      "/opt/conda/lib/python3.7/site-packages/xgboost/sklearn.py:888: UserWarning: The use of label encoder in XGBClassifier is deprecated and will be removed in a future release. To remove this warning, do the following: 1) Pass option use_label_encoder=False when constructing XGBClassifier object; and 2) Encode your labels (y) as integers starting with 0, i.e. 0, 1, 2, ..., [num_class - 1].\n",
      "  warnings.warn(label_encoder_deprecation_msg, UserWarning)\n"
     ]
    },
    {
     "name": "stdout",
     "output_type": "stream",
     "text": [
      "[05:34:19] WARNING: ../src/learner.cc:1061: Starting in XGBoost 1.3.0, the default evaluation metric used with the objective 'multi:softprob' was changed from 'merror' to 'mlogloss'. Explicitly set eval_metric if you'd like to restore the old behavior.\n",
      "Done alpha== 50\n",
      "log_loss for c =  5 is 2.124142414759515\n",
      "log_loss for c =  10 is 2.1241374011920438\n",
      "log_loss for c =  50 is 2.124172789021281\n"
     ]
    }
   ],
   "source": [
    "alpha=[5,10,50]\n",
    "cv_log_error_array=[]\n",
    "for i in alpha:\n",
    "    x_cfl=XGBClassifier(n_estimators=i,nthread=-1)\n",
    "    x_cfl.fit(lr_train_1,project_data_y_train)\n",
    "    sig_clf = CalibratedClassifierCV(x_cfl, method=\"sigmoid\")\n",
    "    sig_clf.fit(lr_train_1, project_data_y_train)\n",
    "    predict_y = sig_clf.predict_proba(lr_cv_1)\n",
    "    cv_log_error_array.append(log_loss(project_data_y_cv, predict_y, labels=logisticR.classes_, eps=1e-15))\n",
    "    print(f\"Done alpha== {i}\")\n",
    "    \n",
    "for i in range(len(cv_log_error_array)):\n",
    "    print ('log_loss for c = ',alpha[i],'is',cv_log_error_array[i])\n"
   ]
  },
  {
   "cell_type": "code",
   "execution_count": 43,
   "metadata": {
    "execution": {
     "iopub.execute_input": "2021-03-18T05:34:57.999608Z",
     "iopub.status.busy": "2021-03-18T05:34:57.998575Z",
     "iopub.status.idle": "2021-03-18T05:35:35.253694Z",
     "shell.execute_reply": "2021-03-18T05:35:35.252967Z"
    },
    "papermill": {
     "duration": 37.378213,
     "end_time": "2021-03-18T05:35:35.253902",
     "exception": false,
     "start_time": "2021-03-18T05:34:57.875689",
     "status": "completed"
    },
    "tags": []
   },
   "outputs": [
    {
     "data": {
      "image/png": "[encoded data removed]",
      "text/plain": [
       "<Figure size 432x288 with 1 Axes>"
      ]
     },
     "metadata": {
      "needs_background": "light"
     },
     "output_type": "display_data"
    },
    {
     "name": "stderr",
     "output_type": "stream",
     "text": [
      "/opt/conda/lib/python3.7/site-packages/xgboost/sklearn.py:888: UserWarning: The use of label encoder in XGBClassifier is deprecated and will be removed in a future release. To remove this warning, do the following: 1) Pass option use_label_encoder=False when constructing XGBClassifier object; and 2) Encode your labels (y) as integers starting with 0, i.e. 0, 1, 2, ..., [num_class - 1].\n",
      "  warnings.warn(label_encoder_deprecation_msg, UserWarning)\n"
     ]
    },
    {
     "name": "stdout",
     "output_type": "stream",
     "text": [
      "[05:34:59] WARNING: ../src/learner.cc:1061: Starting in XGBoost 1.3.0, the default evaluation metric used with the objective 'multi:softprob' was changed from 'merror' to 'mlogloss'. Explicitly set eval_metric if you'd like to restore the old behavior.\n"
     ]
    },
    {
     "name": "stderr",
     "output_type": "stream",
     "text": [
      "/opt/conda/lib/python3.7/site-packages/xgboost/sklearn.py:888: UserWarning: The use of label encoder in XGBClassifier is deprecated and will be removed in a future release. To remove this warning, do the following: 1) Pass option use_label_encoder=False when constructing XGBClassifier object; and 2) Encode your labels (y) as integers starting with 0, i.e. 0, 1, 2, ..., [num_class - 1].\n",
      "  warnings.warn(label_encoder_deprecation_msg, UserWarning)\n"
     ]
    },
    {
     "name": "stdout",
     "output_type": "stream",
     "text": [
      "[05:35:01] WARNING: ../src/learner.cc:1061: Starting in XGBoost 1.3.0, the default evaluation metric used with the objective 'multi:softprob' was changed from 'merror' to 'mlogloss'. Explicitly set eval_metric if you'd like to restore the old behavior.\n"
     ]
    },
    {
     "name": "stderr",
     "output_type": "stream",
     "text": [
      "/opt/conda/lib/python3.7/site-packages/xgboost/sklearn.py:888: UserWarning: The use of label encoder in XGBClassifier is deprecated and will be removed in a future release. To remove this warning, do the following: 1) Pass option use_label_encoder=False when constructing XGBClassifier object; and 2) Encode your labels (y) as integers starting with 0, i.e. 0, 1, 2, ..., [num_class - 1].\n",
      "  warnings.warn(label_encoder_deprecation_msg, UserWarning)\n"
     ]
    },
    {
     "name": "stdout",
     "output_type": "stream",
     "text": [
      "[05:35:06] WARNING: ../src/learner.cc:1061: Starting in XGBoost 1.3.0, the default evaluation metric used with the objective 'multi:softprob' was changed from 'merror' to 'mlogloss'. Explicitly set eval_metric if you'd like to restore the old behavior.\n"
     ]
    },
    {
     "name": "stderr",
     "output_type": "stream",
     "text": [
      "/opt/conda/lib/python3.7/site-packages/xgboost/sklearn.py:888: UserWarning: The use of label encoder in XGBClassifier is deprecated and will be removed in a future release. To remove this warning, do the following: 1) Pass option use_label_encoder=False when constructing XGBClassifier object; and 2) Encode your labels (y) as integers starting with 0, i.e. 0, 1, 2, ..., [num_class - 1].\n",
      "  warnings.warn(label_encoder_deprecation_msg, UserWarning)\n"
     ]
    },
    {
     "name": "stdout",
     "output_type": "stream",
     "text": [
      "[05:35:10] WARNING: ../src/learner.cc:1061: Starting in XGBoost 1.3.0, the default evaluation metric used with the objective 'multi:softprob' was changed from 'merror' to 'mlogloss'. Explicitly set eval_metric if you'd like to restore the old behavior.\n"
     ]
    },
    {
     "name": "stderr",
     "output_type": "stream",
     "text": [
      "/opt/conda/lib/python3.7/site-packages/xgboost/sklearn.py:888: UserWarning: The use of label encoder in XGBClassifier is deprecated and will be removed in a future release. To remove this warning, do the following: 1) Pass option use_label_encoder=False when constructing XGBClassifier object; and 2) Encode your labels (y) as integers starting with 0, i.e. 0, 1, 2, ..., [num_class - 1].\n",
      "  warnings.warn(label_encoder_deprecation_msg, UserWarning)\n"
     ]
    },
    {
     "name": "stdout",
     "output_type": "stream",
     "text": [
      "[05:35:14] WARNING: ../src/learner.cc:1061: Starting in XGBoost 1.3.0, the default evaluation metric used with the objective 'multi:softprob' was changed from 'merror' to 'mlogloss'. Explicitly set eval_metric if you'd like to restore the old behavior.\n"
     ]
    },
    {
     "name": "stderr",
     "output_type": "stream",
     "text": [
      "/opt/conda/lib/python3.7/site-packages/xgboost/sklearn.py:888: UserWarning: The use of label encoder in XGBClassifier is deprecated and will be removed in a future release. To remove this warning, do the following: 1) Pass option use_label_encoder=False when constructing XGBClassifier object; and 2) Encode your labels (y) as integers starting with 0, i.e. 0, 1, 2, ..., [num_class - 1].\n",
      "  warnings.warn(label_encoder_deprecation_msg, UserWarning)\n"
     ]
    },
    {
     "name": "stdout",
     "output_type": "stream",
     "text": [
      "[05:35:20] WARNING: ../src/learner.cc:1061: Starting in XGBoost 1.3.0, the default evaluation metric used with the objective 'multi:softprob' was changed from 'merror' to 'mlogloss'. Explicitly set eval_metric if you'd like to restore the old behavior.\n",
      "log loss for train data 2.1230697772081415\n",
      "log loss for cv data 2.124163824514942\n",
      "log loss for test data 2.124207932113278\n"
     ]
    }
   ],
   "source": [
    "import matplotlib.pyplot as plt\n",
    "best_alpha = np.argmin(cv_log_error_array)\n",
    "\n",
    "fig, ax = plt.subplots()\n",
    "ax.plot(alpha, cv_log_error_array,c='g')\n",
    "for i, txt in enumerate(np.round(cv_log_error_array,3)):\n",
    "    ax.annotate((alpha[i],np.round(txt,3)), (alpha[i],cv_log_error_array[i]))\n",
    "plt.grid()\n",
    "plt.title(\"Cross Validation Error for each alpha\")\n",
    "plt.xlabel(\"Alpha i's\")\n",
    "plt.ylabel(\"Error measure\")\n",
    "plt.show()\n",
    "\n",
    "x_cfl=XGBClassifier(n_estimators=i,nthread=-1)\n",
    "x_cfl.fit(lr_train_1,project_data_y_train)\n",
    "sig_clf = CalibratedClassifierCV(x_cfl, method=\"sigmoid\")\n",
    "sig_clf.fit(lr_train_1, project_data_y_train)\n",
    "pred_y=sig_clf.predict(lr_test_1)\n",
    "\n",
    "predict_y = sig_clf.predict_proba(lr_train_1)\n",
    "print ('log loss for train data',log_loss(project_data_y_train, predict_y, labels=logisticR.classes_, eps=1e-15))\n",
    "predict_y = sig_clf.predict_proba(lr_cv_1)\n",
    "print ('log loss for cv data',log_loss(project_data_y_cv, predict_y, labels=logisticR.classes_, eps=1e-15))\n",
    "predict_y = sig_clf.predict_proba(lr_test_1)\n",
    "print ('log loss for test data',log_loss(project_data_y_test, predict_y, labels=logisticR.classes_, eps=1e-15))"
   ]
  },
  {
   "cell_type": "markdown",
   "metadata": {
    "papermill": {
     "duration": 0.11402,
     "end_time": "2021-03-18T05:35:35.481306",
     "exception": false,
     "start_time": "2021-03-18T05:35:35.367286",
     "status": "completed"
    },
    "tags": []
   },
   "source": [
    "**Note:**\n",
    "1. I Have used   different vectorizer other than count vectorizer. Ex:- (Tfidf, w2v etc)\n",
    "2. Training time of w2v will be much greater than count and tfidf vectorizer.\n",
    "3. We can also try RandomForect, knn, NeuralNetwork.\n",
    "4. Loss is logloss for multiclass classification.\n",
    "5. We can also tweak number of alpha's, to check robustness of above model.\n",
    "6. Divided train, cv and test and then vectorize it to avoid data leakage(Increase model robustness)"
   ]
  },
  {
   "cell_type": "code",
   "execution_count": null,
   "metadata": {},
   "outputs": [],
   "source": []
  }
 ],
 "metadata": {
  "kernelspec": {
   "display_name": "Python 3",
   "language": "python",
   "name": "python3"
  },
  "language_info": {
   "codemirror_mode": {
    "name": "ipython",
    "version": 3
   },
   "file_extension": ".py",
   "mimetype": "text/x-python",
   "name": "python",
   "nbconvert_exporter": "python",
   "pygments_lexer": "ipython3",
   "version": "3.7.4"
  },
  "papermill": {
   "default_parameters": {},
   "duration": 1080.083259,
   "end_time": "2021-03-18T05:35:36.641348",
   "environment_variables": {},
   "exception": null,
   "input_path": "__notebook__.ipynb",
   "output_path": "__notebook__.ipynb",
   "parameters": {},
   "start_time": "2021-03-18T05:17:36.558089",
   "version": "2.2.2"
  }
 },
 "nbformat": 4,
 "nbformat_minor": 4
}
